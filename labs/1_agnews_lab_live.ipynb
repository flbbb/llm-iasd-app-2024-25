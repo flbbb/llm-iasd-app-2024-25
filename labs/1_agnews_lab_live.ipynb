{
  "cells": [
    {
      "cell_type": "code",
      "execution_count": null,
      "metadata": {
        "id": "3o-EuD1m2D2F"
      },
      "outputs": [],
      "source": [
        "%%capture\n",
        "!pip install datasets transformers"
      ]
    },
    {
      "cell_type": "code",
      "execution_count": null,
      "metadata": {
        "id": "cEI-mobt2D2G"
      },
      "outputs": [],
      "source": [
        "from transformers import BertTokenizer"
      ]
    },
    {
      "cell_type": "markdown",
      "metadata": {
        "id": "Bu7fwiOsXM6N"
      },
      "source": [
        "# Machine Learning for NLP"
      ]
    },
    {
      "cell_type": "markdown",
      "metadata": {
        "id": "SEzFS3zU2D2I"
      },
      "source": [
        "# Building blocks\n",
        "\n",
        "In this part, we will discover how to build a first neural network for text classification, step by step.\n",
        "\n",
        "🚧 **TODO** 🚧\n",
        "\n",
        "Propose a chain of operations that should be applied to the input text, from the input to the output.\n",
        "When it applies, write the dimension of the expected tensors.\n",
        "\n",
        "**Answer**\n",
        "\n",
        "- Tokenizer le texte\n",
        "- Mapper les IDs aux embeddings\n",
        "- Aggréger les embeddings en un seul vecteur de taille `d` par document\n",
        "- Classifier multi-classes à partir de ce vecteur de document"
      ]
    },
    {
      "cell_type": "markdown",
      "metadata": {
        "id": "8yH-mEe32D2I"
      },
      "source": [
        "## Tokenizer\n",
        "\n",
        "During the last course and during the HW, you used a `WhiteSpaceTokenizer` to tokenize the text.\n",
        "\n",
        "Here, we are going to use the tokenizer from the model `Bert`, that we will describe later in the course. It comes with the `transformers` library."
      ]
    },
    {
      "cell_type": "code",
      "execution_count": null,
      "metadata": {
        "colab": {
          "base_uri": "https://localhost:8080/",
          "height": 269,
          "referenced_widgets": [
            "8afc0b5b2e4344f0b2693018e1010025",
            "b0f742b5dd544ca884aea5dc08d469e7",
            "4e54e0c1266341d9af1e996d06059651",
            "2d5babbecfb74f8c9fb97d8307e854b1",
            "5c89b3121f1d4691a7a1b11c2defa8c3",
            "52c94ffce6e94778b5a28ea946deaf07",
            "93faf0d46a564976b7ccdbe7f92cff20",
            "43028c6c0a574d1194b9afa2add0b2b5",
            "d3efbddc17f145ed8657d25a4c3bf60c",
            "5b0445fe18a5412f97d446e30b530e63",
            "77497b360d5c4fe59337700370a9102f",
            "f2779f78f1c9418b82a38f9c60e9f31d",
            "6ca78e24bb8048699e3c5b26581e4f85",
            "48173c8852844cca9aca36fce42aa068",
            "69923f3980f948c99ad0c3b2ca454981",
            "4826609fa7064c0e8586379b84654722",
            "a180083511014f07b82beed464f1fc5c",
            "16797312fd8c48638404481f98b53943",
            "b247c056b16b4e0399b32c3aa7de10bc",
            "a30d31702bb14a769677e08391497ca6",
            "014d55aeac624c3ead4f885ddb6d2d9b",
            "8c49e4c1a9a04291b7bec1ee07dc4f59",
            "6d7a1c1dcabc4a6cb17d28ea454eef66",
            "dd26c6b91d9c4d37b8595a5cce2ba4d3",
            "6891a8c100444b01bcab0ce6327a6395",
            "3558196793f640958b044ff6b474b1cd",
            "7ae99b81757a41f9b242aea2f7dd04e9",
            "3f3f938b39a04eb4b6f96d73afc87584",
            "d270dde4fd184cbca0f2dfbb5544711a",
            "d199d973e29c4a68be450ee223d3816e",
            "f3cc68c5282b40ac961547917971fb63",
            "14b81da6db324228938044c93f1e4a14",
            "c8e9dd724f8a4aada831ba523434ab4e",
            "52e3c43119a24720bc5aa2c57f9c968d",
            "cf2fd688e4e74ec5b53693f398f49907",
            "c26ea8594e3346b5b17853dabf5fa12c",
            "f3d6d97d6f8c4ec2be677bd36020c567",
            "a17538277cf740b69160596349c35f25",
            "2883ca77cc324c419d7646b5198804a4",
            "6f93ba726b644f7cae4c85708466a626",
            "d0f1aeb42552428a93f532374a97a495",
            "62936cec699f4365a3508862e10514ff",
            "0e41e99307c5410f847209779e43e466",
            "390a4755bfa14637a64ff92800fd3576"
          ]
        },
        "id": "iuIS0W6N2D2J",
        "outputId": "2760ded6-bac6-49a3-bbc7-eee17acd569f"
      },
      "outputs": [
        {
          "output_type": "stream",
          "name": "stderr",
          "text": [
            "/usr/local/lib/python3.11/dist-packages/huggingface_hub/utils/_auth.py:94: UserWarning: \n",
            "The secret `HF_TOKEN` does not exist in your Colab secrets.\n",
            "To authenticate with the Hugging Face Hub, create a token in your settings tab (https://huggingface.co/settings/tokens), set it as secret in your Google Colab and restart your session.\n",
            "You will be able to reuse this secret in all of your notebooks.\n",
            "Please note that authentication is recommended but still optional to access public models or datasets.\n",
            "  warnings.warn(\n"
          ]
        },
        {
          "output_type": "display_data",
          "data": {
            "text/plain": [
              "tokenizer_config.json:   0%|          | 0.00/48.0 [00:00<?, ?B/s]"
            ],
            "application/vnd.jupyter.widget-view+json": {
              "version_major": 2,
              "version_minor": 0,
              "model_id": "8afc0b5b2e4344f0b2693018e1010025"
            }
          },
          "metadata": {}
        },
        {
          "output_type": "display_data",
          "data": {
            "text/plain": [
              "vocab.txt:   0%|          | 0.00/232k [00:00<?, ?B/s]"
            ],
            "application/vnd.jupyter.widget-view+json": {
              "version_major": 2,
              "version_minor": 0,
              "model_id": "f2779f78f1c9418b82a38f9c60e9f31d"
            }
          },
          "metadata": {}
        },
        {
          "output_type": "display_data",
          "data": {
            "text/plain": [
              "tokenizer.json:   0%|          | 0.00/466k [00:00<?, ?B/s]"
            ],
            "application/vnd.jupyter.widget-view+json": {
              "version_major": 2,
              "version_minor": 0,
              "model_id": "6d7a1c1dcabc4a6cb17d28ea454eef66"
            }
          },
          "metadata": {}
        },
        {
          "output_type": "display_data",
          "data": {
            "text/plain": [
              "config.json:   0%|          | 0.00/570 [00:00<?, ?B/s]"
            ],
            "application/vnd.jupyter.widget-view+json": {
              "version_major": 2,
              "version_minor": 0,
              "model_id": "52e3c43119a24720bc5aa2c57f9c968d"
            }
          },
          "metadata": {}
        }
      ],
      "source": [
        "tokenizer = BertTokenizer.from_pretrained(\"bert-base-uncased\", do_lower_case=True)"
      ]
    },
    {
      "cell_type": "code",
      "source": [
        "sent = \"I love footballing\"\n",
        "ids = tokenizer.encode(sent)\n",
        "for i in ids:\n",
        "    print(i, tokenizer.ids_to_tokens[i])\n"
      ],
      "metadata": {
        "colab": {
          "base_uri": "https://localhost:8080/"
        },
        "id": "uBO-7nc67AiV",
        "outputId": "913a2c3e-b487-4796-f75b-7962aadda5d5"
      },
      "execution_count": null,
      "outputs": [
        {
          "output_type": "stream",
          "name": "stdout",
          "text": [
            "101 [CLS]\n",
            "1045 i\n",
            "2293 love\n",
            "2374 football\n",
            "2075 ##ing\n",
            "102 [SEP]\n"
          ]
        }
      ]
    },
    {
      "cell_type": "markdown",
      "metadata": {
        "id": "7bjosyJC2D2J"
      },
      "source": [
        "**Dataset**\n",
        "\n",
        "We will use the AGNews dataset. It is a dataset with 4 classes: World, Sports, Business, Sci/Tech. We download it from HuggingFace Hub [here](https://huggingface.co/datasets/fancyzhx/ag_news)."
      ]
    },
    {
      "cell_type": "code",
      "execution_count": null,
      "metadata": {
        "colab": {
          "base_uri": "https://localhost:8080/",
          "height": 255,
          "referenced_widgets": [
            "eb69006779cf47adadc0ff21a09aa968",
            "9f297161bcf74c59a3eb764013320124",
            "aac7a355a0564d4c869842231c94259d",
            "e774f58612d04de6a905d7f5d3d958c5",
            "b4daaf81c8474218b2089005e7137048",
            "f19000988cf747d8a27738d60f20e5c7",
            "592f6385b3714089a309f7d9c573d5d9",
            "8ba55fb2bd174226b70343349d7fb991",
            "21109eb2bd424af78ba71ade52b8c46c",
            "595d38a4e2624d709d29ec4f6286d1d9",
            "dc71bf04d78644ba97f9ebde1c714c83",
            "6c305576969f4ccdb2536a252147d37f",
            "b9e94c5a9af344188b547c13ad90ff0f",
            "376678f9f0bd42d1b4519eacc541a644",
            "426719f246744a1191cba9fc1ecf01ee",
            "6eea77552a0f47e99646f5f5716b8e43",
            "cc4157317bce48e4bacff3385df20d66",
            "b2a66dbb130e4339b2e31c494041fdfa",
            "1aa24594b6ae49d0b7707d7cff665b2b",
            "a3997aa43efd49ddac8895ea532c720a",
            "e18868d6384e4ff0b6e3c76d6a761b22",
            "166d3a627cb34bc7955a834bf7d23502"
          ]
        },
        "id": "3kOUjTRl2D2K",
        "outputId": "d494409d-70fe-4d44-a306-b921568387a9"
      },
      "outputs": [
        {
          "output_type": "stream",
          "name": "stdout",
          "text": [
            "DatasetDict({\n",
            "    train: Dataset({\n",
            "        features: ['text', 'label'],\n",
            "        num_rows: 2100\n",
            "    })\n",
            "    test: Dataset({\n",
            "        features: ['text', 'label'],\n",
            "        num_rows: 900\n",
            "    })\n",
            "})\n"
          ]
        },
        {
          "output_type": "display_data",
          "data": {
            "text/plain": [
              "Map:   0%|          | 0/2100 [00:00<?, ? examples/s]"
            ],
            "application/vnd.jupyter.widget-view+json": {
              "version_major": 2,
              "version_minor": 0,
              "model_id": "eb69006779cf47adadc0ff21a09aa968"
            }
          },
          "metadata": {}
        },
        {
          "output_type": "display_data",
          "data": {
            "text/plain": [
              "Map:   0%|          | 0/900 [00:00<?, ? examples/s]"
            ],
            "application/vnd.jupyter.widget-view+json": {
              "version_major": 2,
              "version_minor": 0,
              "model_id": "6c305576969f4ccdb2536a252147d37f"
            }
          },
          "metadata": {}
        }
      ],
      "source": [
        "from datasets import load_dataset\n",
        "import unicodedata\n",
        "import re\n",
        "\n",
        "dataset = load_dataset(\"fancyzhx/ag_news\")\n",
        "dataset = dataset[\"train\"]\n",
        "dataset = dataset.shuffle(seed=42)\n",
        "dataset = dataset.select(range(3000))\n",
        "dataset = dataset.train_test_split(test_size=0.3)\n",
        "\n",
        "print(dataset)\n",
        "\n",
        "\n",
        "def preprocess_text(text: str) -> str:\n",
        "    # TODO lower case\n",
        "    text = text.lower()\n",
        "\n",
        "    # TODO string normalization.\n",
        "    text = unicodedata.normalize(\"NFD\", text).encode(\"ascii\", \"ignore\").decode()\n",
        "\n",
        "    # TODO remove non alpha numeric characters.\n",
        "    text = re.sub(r\"[^a-z0-9]\", \" \", text)\n",
        "\n",
        "    # TODO replace numbers by the <NUM> token.\n",
        "    text = re.sub(r\"\\d+\", \"<NUM>\", text)\n",
        "\n",
        "    # TODO remove double whitespaces.\n",
        "    text = re.sub(\" +\", \" \", text.strip())\n",
        "    return text\n",
        "\n",
        "\n",
        "# Clean the dataset\n",
        "dataset = dataset.map(lambda x: {\"text\": preprocess_text(x[\"text\"])})"
      ]
    },
    {
      "cell_type": "markdown",
      "metadata": {
        "id": "GQKydGoy2D2K"
      },
      "source": [
        "## Word vectors\n",
        "\n",
        "The first step since we have access to text in a tokenized form is to use word embeddings.\n",
        "\n",
        "### Embeddings"
      ]
    },
    {
      "cell_type": "markdown",
      "metadata": {
        "id": "LdqySE8-2D2M"
      },
      "source": [
        "\n",
        "🚧 **TODO** 🚧\n",
        "\n",
        "Experiment with the class `nn.Embedding` from PyTorch.\n",
        "\n",
        "Construct an embedding layer with:\n",
        "- `d_embed=50` dimensions\n",
        "- `n_vocab=V` words in the vocabulary\n",
        "\n",
        "Then try to get the embedding of the following sentence: `\"I love machine learning.\"`."
      ]
    },
    {
      "cell_type": "code",
      "execution_count": null,
      "metadata": {
        "colab": {
          "base_uri": "https://localhost:8080/"
        },
        "id": "dEi7WSw_2D2M",
        "outputId": "53f5f7c9-9754-4642-b09d-d9c1f6802e8e"
      },
      "outputs": [
        {
          "output_type": "stream",
          "name": "stdout",
          "text": [
            "Token ids: tensor([[ 101, 1045, 2293, 3698, 4083,  102]])\n",
            "Embedding:\n",
            "tensor([[[ 0.7403,  2.4777,  0.7951, -0.7436, -1.8402],\n",
            "         [ 2.0075,  1.2725, -1.2053, -2.4803,  0.1187],\n",
            "         [-1.0169,  0.4793,  0.4454, -0.4643,  0.8442],\n",
            "         [ 0.5979, -0.2051, -0.6606, -1.6262, -2.0163],\n",
            "         [ 0.4232,  0.4806, -0.5440,  0.2497, -1.0013],\n",
            "         [-0.0846, -0.7424, -0.0695, -1.7643,  0.5274]]],\n",
            "       grad_fn=<EmbeddingBackward0>)\n"
          ]
        }
      ],
      "source": [
        "from torch import nn\n",
        "import torch\n",
        "d_embed = 5\n",
        "n_vocab = len(tokenizer)\n",
        "\n",
        "embedding_model = nn.Embedding(\n",
        "    num_embeddings=n_vocab, embedding_dim=d_embed\n",
        ")\n",
        "\n",
        "sentence = \"I love machine learning\"\n",
        "tokens = tokenizer(sentence, return_tensors=\"pt\")[\"input_ids\"]\n",
        "print('Token ids:', tokens)\n",
        "vectors = embedding_model(tokens)\n",
        "print('Embedding:')\n",
        "print(vectors)"
      ]
    },
    {
      "cell_type": "code",
      "source": [
        "embedding_model.weight.shape"
      ],
      "metadata": {
        "colab": {
          "base_uri": "https://localhost:8080/"
        },
        "id": "7MdEp3Ex_s4y",
        "outputId": "58deabef-72f0-4ca4-f955-87f503acb8d9"
      },
      "execution_count": null,
      "outputs": [
        {
          "output_type": "execute_result",
          "data": {
            "text/plain": [
              "torch.Size([30522, 5])"
            ]
          },
          "metadata": {},
          "execution_count": 33
        }
      ]
    },
    {
      "cell_type": "code",
      "source": [
        "sentence = \"I love Paris\"\n",
        "tokens = tokenizer(sentence, return_tensors=\"pt\")[\"input_ids\"]\n",
        "print('Token ids:', tokens)\n",
        "vectors = embedding_model(tokens)\n",
        "print('Embedding:')\n",
        "print(vectors.shape)"
      ],
      "metadata": {
        "colab": {
          "base_uri": "https://localhost:8080/"
        },
        "id": "99SSNemV-qDM",
        "outputId": "c9a2287d-cd34-4221-d08d-149705d38b55"
      },
      "execution_count": null,
      "outputs": [
        {
          "output_type": "stream",
          "name": "stdout",
          "text": [
            "Token ids: tensor([[ 101, 1045, 2293, 3000,  102]])\n",
            "Embedding:\n",
            "torch.Size([1, 5, 5])\n"
          ]
        }
      ]
    },
    {
      "cell_type": "markdown",
      "metadata": {
        "id": "XpyxIgQ12D2M"
      },
      "source": [
        "### Aggregation function\n",
        "\n",
        "Since we need to perform document classfications, we need to aggregate the embeddings into a single vector of size `d`.\n",
        "\n",
        "### Classification\n",
        "\n",
        "The last layer of the network should be a linear layer with `c` classes."
      ]
    },
    {
      "cell_type": "markdown",
      "metadata": {
        "id": "E7savuu_2D2N"
      },
      "source": [
        "🚧 **TODO** 🚧\n",
        "\n",
        "Write a class named \"WordEmbedClassifier\" that will take as input a list of ids and return the probability of each class."
      ]
    },
    {
      "cell_type": "code",
      "execution_count": null,
      "metadata": {
        "id": "JPVLMAT-2D2N"
      },
      "outputs": [],
      "source": [
        "class WordEmbedClassifier(nn.Module):\n",
        "    def __init__(self, vocab_size, d, n_classes=4):\n",
        "        super().__init__()\n",
        "        self.embedding_layer = nn.Embedding(num_embeddings=vocab_size, embedding_dim=d)\n",
        "\n",
        "        self.class_projection = nn.Linear(d, n_classes)\n",
        "\n",
        "    def forward(self, x):\n",
        "        # x (B, L)\n",
        "        x_embeds = self.embedding_layer(x) # (B, L, d)\n",
        "\n",
        "        x_vector = x_embeds.mean(axis=1) # (B, d)\n",
        "\n",
        "        class_scores = self.class_projection(x_vector) # (B, n_classes)\n",
        "\n",
        "        # class_proba = torch.nn.functionnal.softmax(class_logits)\n",
        "        return class_scores"
      ]
    },
    {
      "cell_type": "code",
      "execution_count": null,
      "metadata": {
        "colab": {
          "base_uri": "https://localhost:8080/"
        },
        "id": "z9KZyxyZ2D2N",
        "outputId": "e6560b2a-f3a1-4ce5-ba72-5c3546b6caf1"
      },
      "outputs": [
        {
          "output_type": "stream",
          "name": "stdout",
          "text": [
            "torch.Size([2, 5])\n",
            "torch.Size([2, 4])\n",
            "tensor([[ 0.2142,  0.0573, -0.1861,  0.1308],\n",
            "        [ 0.2142,  0.0573, -0.1861,  0.1308]], grad_fn=<AddmmBackward0>)\n"
          ]
        }
      ],
      "source": [
        "# Try the model on a simple input:\n",
        "length = 10\n",
        "model = WordEmbedClassifier(d=5, n_classes=4, vocab_size=len(tokenizer))\n",
        "x = tokenizer([\"I live Paris\", \"I live Paris\"], return_tensors=\"pt\")[\"input_ids\"]\n",
        "print(x.shape)\n",
        "output = model(x)\n",
        "print(output.shape)\n",
        "print(output)"
      ]
    },
    {
      "cell_type": "markdown",
      "metadata": {
        "id": "GLcyYkLp2D2N"
      },
      "source": [
        "## Training\n",
        "\n",
        "For training we need to iterate over the dataset.\n",
        "\n",
        "### Data preparation\n",
        "\n",
        "Here, we will assume that all texts have the same length, using truncation and discarding examples."
      ]
    },
    {
      "cell_type": "markdown",
      "metadata": {
        "id": "Yk-BTZHZ2D2N"
      },
      "source": [
        "🚧 **Question** 🚧\n",
        "\n",
        "Why do we need to have inputs of the same length?\n",
        "\n",
        "**Answer**\n",
        "\n",
        "Because we put them into tensors."
      ]
    },
    {
      "cell_type": "code",
      "execution_count": null,
      "metadata": {
        "colab": {
          "base_uri": "https://localhost:8080/"
        },
        "id": "-I4wQria2D2O",
        "outputId": "691c3b60-c750-4ab7-fa95-07828b740184"
      },
      "outputs": [
        {
          "output_type": "stream",
          "name": "stdout",
          "text": [
            "Size before truncating: 2100\n",
            "Size after truncating: 953\n"
          ]
        }
      ],
      "source": [
        "def tokenize_truncate_and_discard(texts_list, labels_list, tokenizer, length=50):\n",
        "    new_texts = []\n",
        "    new_labels = []\n",
        "    for text, label in zip(texts_list, labels_list):\n",
        "        tokenized_text = tokenizer.encode(text)\n",
        "        if len(tokenized_text) < length:\n",
        "            continue\n",
        "        new_texts.append(tokenized_text[:length])\n",
        "        new_labels.append(label)\n",
        "\n",
        "    return new_texts, new_labels\n",
        "\n",
        "\n",
        "train_texts, train_labels = tokenize_truncate_and_discard(\n",
        "    dataset[\"train\"][\"text\"], dataset[\"train\"][\"label\"], tokenizer\n",
        ")\n",
        "test_texts, test_labels = tokenize_truncate_and_discard(\n",
        "    dataset[\"test\"][\"text\"], dataset[\"test\"][\"label\"], tokenizer\n",
        ")\n",
        "\n",
        "train_dataset = [(t, l) for t, l in zip(train_texts, train_labels)]\n",
        "valid_dataset = [(t, l) for t, l in zip(test_texts, test_labels)]\n",
        "\n",
        "print(\"Size before truncating:\", len(dataset[\"train\"][\"text\"]))\n",
        "print(\"Size after truncating:\", len(train_texts))"
      ]
    },
    {
      "cell_type": "markdown",
      "metadata": {
        "id": "v_4qJLpH2D2O"
      },
      "source": [
        "Now we need to make batches of examples. We will use the DataLoader class from PyTorch."
      ]
    },
    {
      "cell_type": "markdown",
      "metadata": {
        "id": "U3lyOzIR2D2O"
      },
      "source": [
        "🚧 **TODO** 🚧\n",
        "\n",
        "Load the data into batches. One batch should be a dictionary with the following keys:\n",
        "- `\"input_ids\"`: tensor of size (batch_size, L)\n",
        "- `\"labels\"`: tensor of size (batch_size,)"
      ]
    },
    {
      "cell_type": "code",
      "execution_count": null,
      "metadata": {
        "id": "a1vvUTK42D2O"
      },
      "outputs": [],
      "source": [
        "from torch.utils.data import DataLoader\n",
        "\n",
        "\n",
        "class DataCollator:\n",
        "    def __init__(self, tokenizer):\n",
        "        self.tokenizer = tokenizer\n",
        "\n",
        "    def __call__(self, batch):\n",
        "        # `batch` is a list of tuples (text, label)\n",
        "        texts, labels = zip(*batch)\n",
        "        # Encode the texts\n",
        "        return {\"input_ids\": torch.tensor(texts), \"labels\": torch.tensor(labels)}\n",
        "\n",
        "\n",
        "data_collator = DataCollator(tokenizer)\n",
        "\n",
        "batch_size = 32\n",
        "\n",
        "train_dataloader = DataLoader(\n",
        "    train_dataset, batch_size=batch_size, collate_fn=data_collator, shuffle=True\n",
        ")\n",
        "valid_dataloader = DataLoader(\n",
        "    valid_dataset, batch_size=batch_size, collate_fn=data_collator, shuffle=True\n",
        ")\n",
        "n_valid = len(valid_dataset)\n",
        "n_train = len(train_dataset)"
      ]
    },
    {
      "cell_type": "markdown",
      "metadata": {
        "id": "gB8njtep2D2O"
      },
      "source": [
        "🔴 **TEST**"
      ]
    },
    {
      "cell_type": "code",
      "execution_count": null,
      "metadata": {
        "colab": {
          "base_uri": "https://localhost:8080/"
        },
        "id": "Xtm8IBEu2D2P",
        "outputId": "45efd847-d8d5-464f-d71f-a4107048298f"
      },
      "outputs": [
        {
          "output_type": "stream",
          "name": "stdout",
          "text": [
            "{'input_ids': tensor([[  101, 11867,  2595,  ...,  1037, 14181,  2604],\n",
            "        [  101, 27776,  9289,  ...,  2056,  6928,   102],\n",
            "        [  101,  1052,  8873,  ...,  2019,  2972,  2465],\n",
            "        ...,\n",
            "        [  101,  7588,  1055,  ...,  2004,  2002,  2018],\n",
            "        [  101,  2004, 19968,  ...,  2004, 19968,   102],\n",
            "        [  101, 19340,  4115,  ...,  3969, 14711,  1999]]), 'labels': tensor([2, 2, 2, 3, 2, 3, 1, 2, 2, 2, 1, 1, 1, 0, 2, 1, 2, 3, 1, 2, 0, 1, 1, 2,\n",
            "        3, 2, 3, 1, 0, 3, 3, 1])}\n"
          ]
        }
      ],
      "source": [
        "batch = next(iter(train_dataloader))\n",
        "print(batch)\n",
        "assert isinstance(batch, dict)\n",
        "assert \"input_ids\" in batch\n",
        "assert \"labels\" in batch\n",
        "assert isinstance(batch[\"input_ids\"], torch.Tensor)\n",
        "assert isinstance(batch[\"labels\"], torch.Tensor)\n",
        "assert batch[\"input_ids\"].shape[0] == batch_size\n",
        "assert batch[\"labels\"].shape[0] == batch_size"
      ]
    },
    {
      "cell_type": "markdown",
      "metadata": {
        "id": "s_S2M6tG2D2P"
      },
      "source": [
        "### Training loop\n",
        "\n",
        "🚧 **TODO** 🚧\n",
        "\n",
        "Now write the training loop. Validate the model on the validation set every epoch. Don't forget to plot the learning curves."
      ]
    },
    {
      "cell_type": "code",
      "execution_count": null,
      "metadata": {
        "scrolled": true,
        "colab": {
          "base_uri": "https://localhost:8080/",
          "height": 696
        },
        "id": "eJQBZGNR2D2P",
        "outputId": "90301cb7-21fa-45de-e820-61ad98eb23ea"
      },
      "outputs": [
        {
          "output_type": "stream",
          "name": "stdout",
          "text": [
            "Epoch 1: train_loss: 1.3215, train_accuracy: 0.4092, valid_loss: 1.2213, valid_accuracy: 0.5116\n",
            "Epoch 2: train_loss: 0.9988, train_accuracy: 0.7429, valid_loss: 0.9393, valid_accuracy: 0.7147\n",
            "Epoch 3: train_loss: 0.5446, train_accuracy: 0.9045, valid_loss: 0.6711, valid_accuracy: 0.7866\n",
            "Epoch 4: train_loss: 0.2509, train_accuracy: 0.9675, valid_loss: 0.5682, valid_accuracy: 0.7943\n",
            "Epoch 5: train_loss: 0.1179, train_accuracy: 0.9937, valid_loss: 0.5878, valid_accuracy: 0.8098\n",
            "Epoch 6: train_loss: 0.0615, train_accuracy: 0.9969, valid_loss: 0.5084, valid_accuracy: 0.8175\n",
            "Epoch 7: train_loss: 0.0366, train_accuracy: 1.0000, valid_loss: 0.4919, valid_accuracy: 0.8252\n",
            "Epoch 8: train_loss: 0.0250, train_accuracy: 1.0000, valid_loss: 0.5070, valid_accuracy: 0.8303\n",
            "Epoch 9: train_loss: 0.0180, train_accuracy: 1.0000, valid_loss: 0.5120, valid_accuracy: 0.8252\n",
            "Epoch 10: train_loss: 0.0138, train_accuracy: 1.0000, valid_loss: 0.4900, valid_accuracy: 0.8329\n"
          ]
        },
        {
          "output_type": "display_data",
          "data": {
            "text/plain": [
              "<Figure size 1200x600 with 2 Axes>"
            ],
            "image/png": "[encoded data removed]"
          },
          "metadata": {}
        }
      ],
      "source": [
        "import matplotlib.pyplot as plt\n",
        "from torch import optim\n",
        "\n",
        "\n",
        "# TODO\n",
        "def validation_step(valid_dataloader, model, criterion):\n",
        "    n_valid = len(valid_dataloader.dataset)\n",
        "    model.eval()\n",
        "    total_loss = 0.0\n",
        "    correct = 0\n",
        "    n_iter = 0\n",
        "    with torch.no_grad():\n",
        "        for batch in valid_dataloader:\n",
        "            input_ids = batch[\"input_ids\"]\n",
        "            labels = batch[\"labels\"]\n",
        "            output = model(input_ids)\n",
        "            loss = criterion(output, labels)\n",
        "            total_loss += loss.item()\n",
        "            correct += (output.argmax(axis=-1) == batch[\"labels\"]).sum().item()\n",
        "            n_iter += 1\n",
        "    return total_loss / n_iter, correct / n_valid\n",
        "\n",
        "\n",
        "def train_one_epoch(train_dataloader, model, optimizer, criterion):\n",
        "    model.train()\n",
        "    total_loss = 0.0\n",
        "    correct = 0\n",
        "    n_train = len(train_dataloader.dataset)\n",
        "    n_iter = 0\n",
        "    for batch in train_dataloader:\n",
        "        optimizer.zero_grad()\n",
        "        class_scores = model(batch[\"input_ids\"]) # (B, 4)\n",
        "\n",
        "        loss = criterion(class_scores, batch[\"labels\"]) # scalaire (1,)\n",
        "        loss.backward()\n",
        "        optimizer.step()\n",
        "\n",
        "        total_loss += loss.item()\n",
        "        correct += (class_scores.argmax(axis=-1) == batch[\"labels\"]).sum().item()\n",
        "        n_iter += 1\n",
        "\n",
        "    return total_loss / n_iter, correct / n_train\n",
        "\n",
        "\n",
        "def train(model, train_dataloader, valid_dataloader, lr=0.01, n_epochs=10):\n",
        "    criterion = nn.CrossEntropyLoss()\n",
        "    optimizer = optim.AdamW(model.parameters(), lr=lr)\n",
        "    # Track training loss, training accuracy, validation loss and validation accuracy and plot in the end\n",
        "    train_losses = []\n",
        "    train_accuracies = []\n",
        "    valid_losses = []\n",
        "    valid_accuracies = []\n",
        "\n",
        "    for epoch in range(n_epochs):\n",
        "        train_loss, train_accuracy = train_one_epoch(\n",
        "            train_dataloader, model, optimizer, criterion\n",
        "        )\n",
        "        valid_loss, valid_accuracy = validation_step(valid_dataloader, model, criterion)\n",
        "        print(\n",
        "            f\"Epoch {epoch + 1}: train_loss: {train_loss:.4f}, train_accuracy: {train_accuracy:.4f}, valid_loss: {valid_loss:.4f}, valid_accuracy: {valid_accuracy:.4f}\"\n",
        "        )\n",
        "        train_losses.append(train_loss)\n",
        "        train_accuracies.append(train_accuracy)\n",
        "        valid_losses.append(valid_loss)\n",
        "        valid_accuracies.append(valid_accuracy)\n",
        "\n",
        "    plt.figure(figsize=(12, 6))\n",
        "    plt.subplot(1, 2, 1)\n",
        "    plt.plot(train_losses, label=\"train loss\")\n",
        "    plt.plot(valid_losses, label=\"valid loss\")\n",
        "    plt.legend()\n",
        "    plt.subplot(1, 2, 2)\n",
        "    plt.plot(train_accuracies, label=\"train accuracy\")\n",
        "    plt.plot(valid_accuracies, label=\"valid accuracy\")\n",
        "    plt.legend()\n",
        "\n",
        "\n",
        "model = WordEmbedClassifier(d=50, n_classes=4, vocab_size=len(tokenizer))\n",
        "\n",
        "train(model, train_dataloader, valid_dataloader, n_epochs=10)"
      ]
    },
    {
      "cell_type": "markdown",
      "metadata": {
        "id": "cq96kGUS2D2P"
      },
      "source": [
        "🚧 **TODO** 🚧\n",
        "\n",
        "What do you think about the learning curves ?"
      ]
    },
    {
      "cell_type": "markdown",
      "metadata": {
        "id": "LhJ8m1etvhEQ"
      },
      "source": [
        "## Padding and masking\n",
        "\n",
        "Up to know, we assumed that our texts have the same length. To achieve that, we truncated the texts. However, in practive we want to keep the full texts (up to a given limit, of course)\n",
        "\n",
        "We will investigate masking and padding to handle texts of different lengths."
      ]
    },
    {
      "cell_type": "markdown",
      "metadata": {
        "id": "eILpEZl72D2Q"
      },
      "source": [
        "🚧 **Question** 🚧\n",
        "\n",
        "- What will padding achieve?\n",
        "- What should we be careful about when using padding model?\n",
        "\n",
        "**Answer**\n",
        "\n",
        "TODO\n"
      ]
    },
    {
      "cell_type": "code",
      "execution_count": null,
      "metadata": {
        "id": "HmQFx5eh2D2Q"
      },
      "outputs": [],
      "source": [
        "class DataCollator:\n",
        "    def __init__(self, tokenizer):\n",
        "        self.tokenizer = tokenizer\n",
        "\n",
        "    def __call__(self, batch):\n",
        "        # Tokenize the texts\n",
        "        texts = [example[\"text\"] for example in batch]\n",
        "        labels = [example[\"label\"] for example in batch]\n",
        "        tokenized_texts = [self.tokenizer.encode(text) for text in texts]\n",
        "        # Pad the tokenized texts\n",
        "        max_len = max(len(text) for text in tokenized_texts)\n",
        "        padded_texts = [\n",
        "            text + [self.tokenizer.pad_token_id] * (max_len - len(text))\n",
        "            for text in tokenized_texts\n",
        "        ]\n",
        "        pad_mask = [\n",
        "            [1] * len(text) + [0] * (max_len - len(text)) for text in tokenized_texts\n",
        "        ]\n",
        "        return {\n",
        "            \"input_ids\": torch.tensor(padded_texts),\n",
        "            \"pad_mask\": torch.tensor(pad_mask),\n",
        "            \"labels\": torch.tensor(labels),\n",
        "        }\n",
        "\n",
        "\n",
        "batch_size = 32\n",
        "n_train = len(dataset[\"train\"])\n",
        "n_valid = len(dataset[\"test\"])\n",
        "data_collator = DataCollator(tokenizer)\n",
        "train_dataloader = DataLoader(\n",
        "    dataset[\"train\"], batch_size=batch_size, collate_fn=data_collator, shuffle=True\n",
        ")\n",
        "valid_dataloader = DataLoader(\n",
        "    dataset[\"test\"], batch_size=batch_size, collate_fn=data_collator, shuffle=True\n",
        ")"
      ]
    },
    {
      "cell_type": "code",
      "execution_count": null,
      "metadata": {
        "colab": {
          "base_uri": "https://localhost:8080/"
        },
        "id": "BJ58V7fT2D2Q",
        "outputId": "b7b4e126-2409-4b98-e05e-b22956cf4368"
      },
      "outputs": [
        {
          "output_type": "stream",
          "name": "stdout",
          "text": [
            "tensor([[ 2008,  2045,  2097,  2022,  2053, 14770,  3913, 27475,   102,     0,\n",
            "             0,     0,     0,     0,     0,     0,     0,     0,     0,     0,\n",
            "             0,     0,     0,     0,     0,     0,     0,     0,     0,     0,\n",
            "             0,     0,     0,     0,     0,     0,     0,     0,     0,     0,\n",
            "             0,     0,     0,     0,     0,     0,     0,     0,     0,     0],\n",
            "        [ 2017,  3211,  6856,  2007,  8223,  9711, 18021,  2040,  2180,  2048,\n",
            "          2088,  2186,  7635,  2007,  1996, 11081,   102,     0,     0,     0,\n",
            "             0,     0,     0,     0,     0,     0,     0,     0,     0,     0,\n",
            "             0,     0,     0,     0,     0,     0,     0,     0,     0,     0,\n",
            "             0,     0,     0,     0,     0,     0,     0,     0,     0,     0]])\n"
          ]
        }
      ],
      "source": [
        "batch = next(iter(train_dataloader))\n",
        "print(batch[\"input_ids\"][:2, -50:])"
      ]
    },
    {
      "cell_type": "markdown",
      "metadata": {
        "id": "UsM9x4quwCXP"
      },
      "source": [
        "🚧 **TODO** 🚧\n",
        "\n",
        "Update the code of the `WordEmbedClassifier` to handle padding.\n"
      ]
    },
    {
      "cell_type": "code",
      "execution_count": null,
      "metadata": {
        "id": "lLGUEeKgwA7f"
      },
      "outputs": [],
      "source": [
        "class WordEmbedClassifier(nn.Module):\n",
        "    def __init__(self, vocab_size, d, n_classes=4):\n",
        "        super().__init__()\n",
        "        self.embedding_layer = nn.Embedding(vocab_size, d)\n",
        "        self.class_projection = nn.Linear(d, n_classes)\n",
        "\n",
        "    def forward(self, input_ids, pad_mask):\n",
        "        x_embed = self.embedding_layer(input_ids) # (B, L, d)\n",
        "\n",
        "        # x_vector = x_embeds.mean(axis=1) # (B, d)\n",
        "        n_non_pad = pad_mask.sum(axis=1, keepdim=True) # (B, 1), 1 because of keepdim=True\n",
        "\n",
        "        # pad_mask (B, L), x_embed (B, L, d)\n",
        "        x_embed = x_embed * pad_mask[:, :, None] # or pad_mask.unsqueeze(-1)\n",
        "        x_vector  = x_embed.sum(axis=1) / n_non_pad\n",
        "\n",
        "        class_scores = self.class_projection(x_vector) # (B, n_classes)\n",
        "\n",
        "        return class_scores\n",
        "\n"
      ]
    },
    {
      "cell_type": "markdown",
      "metadata": {
        "id": "h8BNcgNV2D2Q"
      },
      "source": [
        "🔴 **TEST**"
      ]
    },
    {
      "cell_type": "code",
      "execution_count": null,
      "metadata": {
        "id": "niYyi0uXDpTL"
      },
      "outputs": [],
      "source": [
        "model = WordEmbedClassifier(d=50, n_classes=4, vocab_size=10000)\n",
        "\n",
        "seq_len = 10\n",
        "x_without_pad = torch.randint(0, 10000, (1, seq_len))\n",
        "pad_mask = torch.ones(1, seq_len)\n",
        "out_without_pad = model(x_without_pad, pad_mask)\n",
        "\n",
        "x_with_pad = torch.randint(0, 10000, (1, 2 * seq_len))\n",
        "pad_mask = torch.ones(1, 2 * seq_len)\n",
        "pad_mask[:, seq_len:] = 0\n",
        "out_with_pad = model(x_with_pad, pad_mask)\n",
        "\n",
        "assert out_without_pad.shape == out_with_pad.shape"
      ]
    },
    {
      "cell_type": "code",
      "execution_count": null,
      "metadata": {
        "id": "23u4BG_c2D2R"
      },
      "outputs": [],
      "source": [
        "# TODO\n",
        "def validation_step(valid_dataloader, model, criterion):\n",
        "    n_valid = len(valid_dataloader.dataset)\n",
        "    model.eval()\n",
        "    total_loss = 0.0\n",
        "    correct = 0\n",
        "    n_iter = 0\n",
        "    with torch.no_grad():\n",
        "        for batch in valid_dataloader:\n",
        "            input_ids = batch[\"input_ids\"]\n",
        "            labels = batch[\"labels\"]\n",
        "            pad_mask = batch[\"pad_mask\"]\n",
        "            output = model(input_ids, pad_mask)\n",
        "            loss = criterion(output, labels)\n",
        "            total_loss += loss.item()\n",
        "            correct += (output.argmax(axis=-1) == batch[\"labels\"]).sum().item()\n",
        "            n_iter += 1\n",
        "    return total_loss / n_iter, correct / n_valid\n",
        "\n",
        "\n",
        "def train_one_epoch(train_dataloader, model, optimizer, criterion):\n",
        "    model.train()\n",
        "    total_loss = 0.0\n",
        "    correct = 0\n",
        "    n_train = len(train_dataloader.dataset)\n",
        "    n_iter = 0\n",
        "    for batch in train_dataloader:\n",
        "        optimizer.zero_grad()\n",
        "        class_scores = model(batch[\"input_ids\"], batch[\"pad_mask\"]) # (B, 4)\n",
        "\n",
        "        loss = criterion(class_scores, batch[\"labels\"]) # scalaire (1,)\n",
        "        loss.backward()\n",
        "        optimizer.step()\n",
        "\n",
        "        total_loss += loss.item()\n",
        "        correct += (class_scores.argmax(axis=-1) == batch[\"labels\"]).sum().item()\n",
        "        n_iter += 1\n",
        "\n",
        "    return total_loss / n_iter, correct / n_train\n",
        "\n",
        "\n",
        "def train(model, train_dataloader, valid_dataloader, lr=0.01, n_epochs=5):\n",
        "    criterion = nn.CrossEntropyLoss()\n",
        "    optimizer = optim.Adam(model.parameters(), lr=lr)\n",
        "\n",
        "    # Track training loss, training accuracy, validation loss and validation accuracy and plot in the end\n",
        "    train_losses = []\n",
        "    train_accuracies = []\n",
        "    valid_losses = []\n",
        "    valid_accuracies = []\n",
        "\n",
        "    for epoch in range(n_epochs):\n",
        "        train_loss, train_accuracy = train_one_epoch(\n",
        "            train_dataloader, model, optimizer, criterion\n",
        "        )\n",
        "        valid_loss, valid_accuracy = validation_step(valid_dataloader, model, criterion)\n",
        "        print(\n",
        "            f\"Epoch {epoch + 1}: train_loss: {train_loss:.4f}, train_accuracy: {train_accuracy:.4f}, valid_loss: {valid_loss:.4f}, valid_accuracy: {valid_accuracy:.4f}\"\n",
        "        )\n",
        "        train_losses.append(train_loss)\n",
        "        train_accuracies.append(train_accuracy)\n",
        "        valid_losses.append(valid_loss)\n",
        "        valid_accuracies.append(valid_accuracy)\n",
        "\n",
        "    plt.figure(figsize=(12, 6))\n",
        "    plt.subplot(1, 2, 1)\n",
        "    plt.plot(train_losses, label=\"train loss\")\n",
        "    plt.plot(valid_losses, label=\"valid loss\")\n",
        "    plt.legend()\n",
        "    plt.subplot(1, 2, 2)\n",
        "    plt.plot(train_accuracies, label=\"train accuracy\")\n",
        "    plt.plot(valid_accuracies, label=\"valid accuracy\")\n",
        "    plt.legend()"
      ]
    },
    {
      "cell_type": "code",
      "execution_count": null,
      "metadata": {
        "colab": {
          "base_uri": "https://localhost:8080/",
          "height": 698
        },
        "id": "EysxzK3t2D2R",
        "outputId": "dbb1fbf4-469c-4cc2-a11e-e5976b510a7a"
      },
      "outputs": [
        {
          "output_type": "stream",
          "name": "stdout",
          "text": [
            "Epoch 1: train_loss: 1.3461, train_accuracy: 0.3652, valid_loss: 1.2576, valid_accuracy: 0.4889\n",
            "Epoch 2: train_loss: 1.0361, train_accuracy: 0.6662, valid_loss: 0.8813, valid_accuracy: 0.7056\n",
            "Epoch 3: train_loss: 0.5768, train_accuracy: 0.8533, valid_loss: 0.6203, valid_accuracy: 0.7933\n",
            "Epoch 4: train_loss: 0.3115, train_accuracy: 0.9348, valid_loss: 0.5327, valid_accuracy: 0.8200\n",
            "Epoch 5: train_loss: 0.1801, train_accuracy: 0.9648, valid_loss: 0.5104, valid_accuracy: 0.8367\n",
            "Epoch 6: train_loss: 0.1073, train_accuracy: 0.9848, valid_loss: 0.4876, valid_accuracy: 0.8389\n",
            "Epoch 7: train_loss: 0.0665, train_accuracy: 0.9933, valid_loss: 0.5127, valid_accuracy: 0.8433\n",
            "Epoch 8: train_loss: 0.0435, train_accuracy: 0.9976, valid_loss: 0.5010, valid_accuracy: 0.8400\n",
            "Epoch 9: train_loss: 0.0302, train_accuracy: 0.9986, valid_loss: 0.5281, valid_accuracy: 0.8433\n",
            "Epoch 10: train_loss: 0.0221, train_accuracy: 0.9995, valid_loss: 0.5130, valid_accuracy: 0.8389\n"
          ]
        },
        {
          "output_type": "display_data",
          "data": {
            "text/plain": [
              "<Figure size 1200x600 with 2 Axes>"
            ],
            "image/png": "[encoded data removed]"
          },
          "metadata": {}
        }
      ],
      "source": [
        "model = WordEmbedClassifier(\n",
        "    d=10,\n",
        "    n_classes=4,\n",
        "    vocab_size=len(tokenizer),\n",
        ")\n",
        "train(\n",
        "    model,\n",
        "    train_dataloader=train_dataloader,\n",
        "    valid_dataloader=valid_dataloader,\n",
        "    lr=0.01,\n",
        "    n_epochs=10,\n",
        ")"
      ]
    },
    {
      "cell_type": "markdown",
      "metadata": {
        "id": "PQ_NUbs82D2R"
      },
      "source": [
        "## Sequence processing module\n",
        "\n",
        "Now we built a simple classifier using word embeddings.\n",
        "\n",
        "But is our model really different from a simple bag-of-words model?\n",
        "\n",
        "🚧 **Question** 🚧\n",
        "\n",
        "How can we make our model more powerful?\n",
        "\n",
        "**Answer**\n",
        "\n",
        "TODO"
      ]
    },
    {
      "cell_type": "markdown",
      "metadata": {
        "id": "QdlBFQBx2D2S"
      },
      "source": [
        "🚧 **Question** 🚧\n",
        "\n",
        "What kind of module can we use?\n",
        "\n",
        "**Answer**\n",
        "\n",
        "TODO"
      ]
    },
    {
      "cell_type": "markdown",
      "metadata": {
        "id": "JPb8RUwp2D2S"
      },
      "source": [
        "## Convolution1D\n",
        "\n",
        "Look at the documentation of the Conv1d layer. Read it carefully and try to completely understand the following code. A convolution layer expects a tensor as input, with the following dimensions *(B, D, L)*:\n",
        "- B: size of the batch, the number of examples (here the number of sequences).\n",
        "- D: the dimension of the vectors for each time step\n",
        "- L: the length of the input sequence (the number of tokens in the sequence)."
      ]
    },
    {
      "cell_type": "markdown",
      "metadata": {
        "id": "DbwjZSiY2D2S"
      },
      "source": [
        "🚧 **Question** 🚧\n",
        "\n",
        "Is this shape directly compatible with our Embeddings layer defined above?"
      ]
    },
    {
      "cell_type": "markdown",
      "metadata": {
        "id": "IyaJ8mxz2D2S"
      },
      "source": [
        "🚧 **TODO** 🚧\n",
        "\n",
        "- Make sure the following code computing a convolution run and is consistent.\n",
        "- Draw what happens to better understand the obtained dimensions."
      ]
    },
    {
      "cell_type": "code",
      "execution_count": null,
      "metadata": {
        "id": "3v657-ol2D2S",
        "colab": {
          "base_uri": "https://localhost:8080/"
        },
        "outputId": "2fa14189-acef-4311-ab3b-236a9ca0f7fb"
      },
      "outputs": [
        {
          "output_type": "stream",
          "name": "stdout",
          "text": [
            "Sequence embedding shape: torch.Size([2, 98, 50])\n",
            "Convolution output shape: torch.Size([2, 50, 96])\n"
          ]
        }
      ],
      "source": [
        "d_embed = 50\n",
        "embedding_layer = nn.Embedding(num_embeddings=len(tokenizer), embedding_dim=d_embed)\n",
        "\n",
        "sequence_embedding = embedding_layer(batch[\"input_ids\"][:2])\n",
        "print(\"Sequence embedding shape:\", sequence_embedding.shape)\n",
        "\n",
        "convolution_layer = nn.Conv1d(in_channels=d_embed, out_channels=d_embed, kernel_size=3)\n",
        "convolution_output = convolution_layer(sequence_embedding.transpose(1, 2)) # convolution input should be (B, D, L)\n",
        "print(\"Convolution output shape:\", convolution_output.shape)\n",
        "output = convolution_output.transpose(1, 2)"
      ]
    },
    {
      "cell_type": "markdown",
      "metadata": {
        "id": "TYIZvAhz2D2S"
      },
      "source": [
        "🚧 **TODO** 🚧\n",
        "\n",
        "Write a class named \"Conv1dClassifier\" that implements a convolutional neural network for text classification."
      ]
    },
    {
      "cell_type": "code",
      "execution_count": null,
      "metadata": {
        "id": "g7hkSlfc2D2S"
      },
      "outputs": [],
      "source": [
        "class ConvClassifier(nn.Module):\n",
        "    def __init__(self, vocab_size, d, n_classes=4):\n",
        "        super().__init__()\n",
        "        self.embedding_layer = nn.Embedding(vocab_size, d)\n",
        "        self.class_projection = nn.Linear(d, n_classes)\n",
        "        self.conv1 = nn.Conv1d(d, d, kernel_size=3)\n",
        "        self.conv2 = nn.Conv1d(d, d, kernel_size=3)\n",
        "\n",
        "    def forward(self, input_ids, pad_mask):\n",
        "        x_embed = self.embedding_layer(input_ids) # (B, L, d)\n",
        "        x_embed = x_embed * pad_mask[:, :, None]\n",
        "        x_embed = self.conv1(x_embed.transpose(1, 2))\n",
        "\n",
        "        x_embed = torch.relu(x_embed)\n",
        "\n",
        "        x_embed = self.conv2(x_embed).transpose(1, 2)\n",
        "\n",
        "        # x_vector = x_embeds.mean(axis=1) # (B, d)\n",
        "        pad_mask = pad_mask[:, 2:-2]\n",
        "        n_non_pad = pad_mask.sum(axis=1, keepdim=True) # (B, 1), 1 because of keepdim=True\n",
        "        # pad_mask (B, L), x_embed (B, L, d)\n",
        "        x_embed = x_embed * pad_mask[:, :, None] # or pad_mask.unsqueeze(-1)\n",
        "        x_vector  = x_embed.sum(axis=1) / n_non_pad\n",
        "\n",
        "        class_scores = self.class_projection(x_vector) # (B, n_classes)\n",
        "        return class_scores\n"
      ]
    },
    {
      "cell_type": "code",
      "execution_count": null,
      "metadata": {
        "id": "BTHc7aO22D2T",
        "colab": {
          "base_uri": "https://localhost:8080/",
          "height": 534
        },
        "outputId": "e168e685-c0c2-4df2-e6a9-6d1f181f25f6"
      },
      "outputs": [
        {
          "output_type": "stream",
          "name": "stdout",
          "text": [
            "Epoch 1: train_loss: 1.3888, train_accuracy: 0.2771, valid_loss: 1.3825, valid_accuracy: 0.3067\n",
            "Epoch 2: train_loss: 1.3751, train_accuracy: 0.3210, valid_loss: 1.3716, valid_accuracy: 0.3167\n",
            "Epoch 3: train_loss: 1.3564, train_accuracy: 0.3505, valid_loss: 1.3496, valid_accuracy: 0.3344\n",
            "Epoch 4: train_loss: 1.3074, train_accuracy: 0.3819, valid_loss: 1.2987, valid_accuracy: 0.3522\n",
            "Epoch 5: train_loss: 1.2246, train_accuracy: 0.4138, valid_loss: 1.2450, valid_accuracy: 0.3800\n",
            "Epoch 6: train_loss: 1.1305, train_accuracy: 0.4676, valid_loss: 1.1899, valid_accuracy: 0.4278\n",
            "Epoch 7: train_loss: 1.0340, train_accuracy: 0.5300, valid_loss: 1.1473, valid_accuracy: 0.4589\n",
            "Epoch 8: train_loss: 0.9370, train_accuracy: 0.5781, valid_loss: 1.1127, valid_accuracy: 0.4933\n",
            "Epoch 9: train_loss: 0.8506, train_accuracy: 0.6162, valid_loss: 1.0981, valid_accuracy: 0.5156\n",
            "Epoch 10: train_loss: 0.7747, train_accuracy: 0.6533, valid_loss: 1.0767, valid_accuracy: 0.5333\n"
          ]
        },
        {
          "output_type": "display_data",
          "data": {
            "text/plain": [
              "<Figure size 1200x600 with 2 Axes>"
            ],
            "image/png": "[encoded data removed]"
          },
          "metadata": {}
        }
      ],
      "source": [
        "model = ConvClassifier(\n",
        "    d=10,\n",
        "    n_classes=4,\n",
        "    vocab_size=len(tokenizer),\n",
        ")\n",
        "train(\n",
        "    model,\n",
        "    train_dataloader=train_dataloader,\n",
        "    valid_dataloader=valid_dataloader,\n",
        "    lr=0.001,\n",
        "    n_epochs=10,\n",
        ")"
      ]
    }
  ],
  "metadata": {
    "accelerator": "GPU",
    "colab": {
      "provenance": []
    },
    "kernelspec": {
      "display_name": "env-llm",
      "language": "python",
      "name": "python3"
    },
    "language_info": {
      "codemirror_mode": {
        "name": "ipython",
        "version": 3
      },
      "file_extension": ".py",
      "mimetype": "text/x-python",
      "name": "python",
      "nbconvert_exporter": "python",
      "pygments_lexer": "ipython3",
      "version": "3.9.20"
    },
    "toc": {
      "base_numbering": 1,
      "nav_menu": {},
      "number_sections": true,
      "sideBar": true,
      "skip_h1_title": false,
      "title_cell": "Table of Contents",
      "title_sidebar": "Contents",
      "toc_cell": false,
      "toc_position": {},
      "toc_section_display": true,
      "toc_window_display": false
    },
    "widgets": {
      "application/vnd.jupyter.widget-state+json": {
        "8afc0b5b2e4344f0b2693018e1010025": {
          "model_module": "@jupyter-widgets/controls",
          "model_name": "HBoxModel",
          "model_module_version": "1.5.0",
          "state": {
            "_dom_classes": [],
            "_model_module": "@jupyter-widgets/controls",
            "_model_module_version": "1.5.0",
            "_model_name": "HBoxModel",
            "_view_count": null,
            "_view_module": "@jupyter-widgets/controls",
            "_view_module_version": "1.5.0",
            "_view_name": "HBoxView",
            "box_style": "",
            "children": [
              "IPY_MODEL_b0f742b5dd544ca884aea5dc08d469e7",
              "IPY_MODEL_4e54e0c1266341d9af1e996d06059651",
              "IPY_MODEL_2d5babbecfb74f8c9fb97d8307e854b1"
            ],
            "layout": "IPY_MODEL_5c89b3121f1d4691a7a1b11c2defa8c3"
          }
        },
        "b0f742b5dd544ca884aea5dc08d469e7": {
          "model_module": "@jupyter-widgets/controls",
          "model_name": "HTMLModel",
          "model_module_version": "1.5.0",
          "state": {
            "_dom_classes": [],
            "_model_module": "@jupyter-widgets/controls",
            "_model_module_version": "1.5.0",
            "_model_name": "HTMLModel",
            "_view_count": null,
            "_view_module": "@jupyter-widgets/controls",
            "_view_module_version": "1.5.0",
            "_view_name": "HTMLView",
            "description": "",
            "description_tooltip": null,
            "layout": "IPY_MODEL_52c94ffce6e94778b5a28ea946deaf07",
            "placeholder": "​",
            "style": "IPY_MODEL_93faf0d46a564976b7ccdbe7f92cff20",
            "value": "tokenizer_config.json: 100%"
          }
        },
        "4e54e0c1266341d9af1e996d06059651": {
          "model_module": "@jupyter-widgets/controls",
          "model_name": "FloatProgressModel",
          "model_module_version": "1.5.0",
          "state": {
            "_dom_classes": [],
            "_model_module": "@jupyter-widgets/controls",
            "_model_module_version": "1.5.0",
            "_model_name": "FloatProgressModel",
            "_view_count": null,
            "_view_module": "@jupyter-widgets/controls",
            "_view_module_version": "1.5.0",
            "_view_name": "ProgressView",
            "bar_style": "success",
            "description": "",
            "description_tooltip": null,
            "layout": "IPY_MODEL_43028c6c0a574d1194b9afa2add0b2b5",
            "max": 48,
            "min": 0,
            "orientation": "horizontal",
            "style": "IPY_MODEL_d3efbddc17f145ed8657d25a4c3bf60c",
            "value": 48
          }
        },
        "2d5babbecfb74f8c9fb97d8307e854b1": {
          "model_module": "@jupyter-widgets/controls",
          "model_name": "HTMLModel",
          "model_module_version": "1.5.0",
          "state": {
            "_dom_classes": [],
            "_model_module": "@jupyter-widgets/controls",
            "_model_module_version": "1.5.0",
            "_model_name": "HTMLModel",
            "_view_count": null,
            "_view_module": "@jupyter-widgets/controls",
            "_view_module_version": "1.5.0",
            "_view_name": "HTMLView",
            "description": "",
            "description_tooltip": null,
            "layout": "IPY_MODEL_5b0445fe18a5412f97d446e30b530e63",
            "placeholder": "​",
            "style": "IPY_MODEL_77497b360d5c4fe59337700370a9102f",
            "value": " 48.0/48.0 [00:00&lt;00:00, 3.61kB/s]"
          }
        },
        "5c89b3121f1d4691a7a1b11c2defa8c3": {
          "model_module": "@jupyter-widgets/base",
          "model_name": "LayoutModel",
          "model_module_version": "1.2.0",
          "state": {
            "_model_module": "@jupyter-widgets/base",
            "_model_module_version": "1.2.0",
            "_model_name": "LayoutModel",
            "_view_count": null,
            "_view_module": "@jupyter-widgets/base",
            "_view_module_version": "1.2.0",
            "_view_name": "LayoutView",
            "align_content": null,
            "align_items": null,
            "align_self": null,
            "border": null,
            "bottom": null,
            "display": null,
            "flex": null,
            "flex_flow": null,
            "grid_area": null,
            "grid_auto_columns": null,
            "grid_auto_flow": null,
            "grid_auto_rows": null,
            "grid_column": null,
            "grid_gap": null,
            "grid_row": null,
            "grid_template_areas": null,
            "grid_template_columns": null,
            "grid_template_rows": null,
            "height": null,
            "justify_content": null,
            "justify_items": null,
            "left": null,
            "margin": null,
            "max_height": null,
            "max_width": null,
            "min_height": null,
            "min_width": null,
            "object_fit": null,
            "object_position": null,
            "order": null,
            "overflow": null,
            "overflow_x": null,
            "overflow_y": null,
            "padding": null,
            "right": null,
            "top": null,
            "visibility": null,
            "width": null
          }
        },
        "52c94ffce6e94778b5a28ea946deaf07": {
          "model_module": "@jupyter-widgets/base",
          "model_name": "LayoutModel",
          "model_module_version": "1.2.0",
          "state": {
            "_model_module": "@jupyter-widgets/base",
            "_model_module_version": "1.2.0",
            "_model_name": "LayoutModel",
            "_view_count": null,
            "_view_module": "@jupyter-widgets/base",
            "_view_module_version": "1.2.0",
            "_view_name": "LayoutView",
            "align_content": null,
            "align_items": null,
            "align_self": null,
            "border": null,
            "bottom": null,
            "display": null,
            "flex": null,
            "flex_flow": null,
            "grid_area": null,
            "grid_auto_columns": null,
            "grid_auto_flow": null,
            "grid_auto_rows": null,
            "grid_column": null,
            "grid_gap": null,
            "grid_row": null,
            "grid_template_areas": null,
            "grid_template_columns": null,
            "grid_template_rows": null,
            "height": null,
            "justify_content": null,
            "justify_items": null,
            "left": null,
            "margin": null,
            "max_height": null,
            "max_width": null,
            "min_height": null,
            "min_width": null,
            "object_fit": null,
            "object_position": null,
            "order": null,
            "overflow": null,
            "overflow_x": null,
            "overflow_y": null,
            "padding": null,
            "right": null,
            "top": null,
            "visibility": null,
            "width": null
          }
        },
        "93faf0d46a564976b7ccdbe7f92cff20": {
          "model_module": "@jupyter-widgets/controls",
          "model_name": "DescriptionStyleModel",
          "model_module_version": "1.5.0",
          "state": {
            "_model_module": "@jupyter-widgets/controls",
            "_model_module_version": "1.5.0",
            "_model_name": "DescriptionStyleModel",
            "_view_count": null,
            "_view_module": "@jupyter-widgets/base",
            "_view_module_version": "1.2.0",
            "_view_name": "StyleView",
            "description_width": ""
          }
        },
        "43028c6c0a574d1194b9afa2add0b2b5": {
          "model_module": "@jupyter-widgets/base",
          "model_name": "LayoutModel",
          "model_module_version": "1.2.0",
          "state": {
            "_model_module": "@jupyter-widgets/base",
            "_model_module_version": "1.2.0",
            "_model_name": "LayoutModel",
            "_view_count": null,
            "_view_module": "@jupyter-widgets/base",
            "_view_module_version": "1.2.0",
            "_view_name": "LayoutView",
            "align_content": null,
            "align_items": null,
            "align_self": null,
            "border": null,
            "bottom": null,
            "display": null,
            "flex": null,
            "flex_flow": null,
            "grid_area": null,
            "grid_auto_columns": null,
            "grid_auto_flow": null,
            "grid_auto_rows": null,
            "grid_column": null,
            "grid_gap": null,
            "grid_row": null,
            "grid_template_areas": null,
            "grid_template_columns": null,
            "grid_template_rows": null,
            "height": null,
            "justify_content": null,
            "justify_items": null,
            "left": null,
            "margin": null,
            "max_height": null,
            "max_width": null,
            "min_height": null,
            "min_width": null,
            "object_fit": null,
            "object_position": null,
            "order": null,
            "overflow": null,
            "overflow_x": null,
            "overflow_y": null,
            "padding": null,
            "right": null,
            "top": null,
            "visibility": null,
            "width": null
          }
        },
        "d3efbddc17f145ed8657d25a4c3bf60c": {
          "model_module": "@jupyter-widgets/controls",
          "model_name": "ProgressStyleModel",
          "model_module_version": "1.5.0",
          "state": {
            "_model_module": "@jupyter-widgets/controls",
            "_model_module_version": "1.5.0",
            "_model_name": "ProgressStyleModel",
            "_view_count": null,
            "_view_module": "@jupyter-widgets/base",
            "_view_module_version": "1.2.0",
            "_view_name": "StyleView",
            "bar_color": null,
            "description_width": ""
          }
        },
        "5b0445fe18a5412f97d446e30b530e63": {
          "model_module": "@jupyter-widgets/base",
          "model_name": "LayoutModel",
          "model_module_version": "1.2.0",
          "state": {
            "_model_module": "@jupyter-widgets/base",
            "_model_module_version": "1.2.0",
            "_model_name": "LayoutModel",
            "_view_count": null,
            "_view_module": "@jupyter-widgets/base",
            "_view_module_version": "1.2.0",
            "_view_name": "LayoutView",
            "align_content": null,
            "align_items": null,
            "align_self": null,
            "border": null,
            "bottom": null,
            "display": null,
            "flex": null,
            "flex_flow": null,
            "grid_area": null,
            "grid_auto_columns": null,
            "grid_auto_flow": null,
            "grid_auto_rows": null,
            "grid_column": null,
            "grid_gap": null,
            "grid_row": null,
            "grid_template_areas": null,
            "grid_template_columns": null,
            "grid_template_rows": null,
            "height": null,
            "justify_content": null,
            "justify_items": null,
            "left": null,
            "margin": null,
            "max_height": null,
            "max_width": null,
            "min_height": null,
            "min_width": null,
            "object_fit": null,
            "object_position": null,
            "order": null,
            "overflow": null,
            "overflow_x": null,
            "overflow_y": null,
            "padding": null,
            "right": null,
            "top": null,
            "visibility": null,
            "width": null
          }
        },
        "77497b360d5c4fe59337700370a9102f": {
          "model_module": "@jupyter-widgets/controls",
          "model_name": "DescriptionStyleModel",
          "model_module_version": "1.5.0",
          "state": {
            "_model_module": "@jupyter-widgets/controls",
            "_model_module_version": "1.5.0",
            "_model_name": "DescriptionStyleModel",
            "_view_count": null,
            "_view_module": "@jupyter-widgets/base",
            "_view_module_version": "1.2.0",
            "_view_name": "StyleView",
            "description_width": ""
          }
        },
        "f2779f78f1c9418b82a38f9c60e9f31d": {
          "model_module": "@jupyter-widgets/controls",
          "model_name": "HBoxModel",
          "model_module_version": "1.5.0",
          "state": {
            "_dom_classes": [],
            "_model_module": "@jupyter-widgets/controls",
            "_model_module_version": "1.5.0",
            "_model_name": "HBoxModel",
            "_view_count": null,
            "_view_module": "@jupyter-widgets/controls",
            "_view_module_version": "1.5.0",
            "_view_name": "HBoxView",
            "box_style": "",
            "children": [
              "IPY_MODEL_6ca78e24bb8048699e3c5b26581e4f85",
              "IPY_MODEL_48173c8852844cca9aca36fce42aa068",
              "IPY_MODEL_69923f3980f948c99ad0c3b2ca454981"
            ],
            "layout": "IPY_MODEL_4826609fa7064c0e8586379b84654722"
          }
        },
        "6ca78e24bb8048699e3c5b26581e4f85": {
          "model_module": "@jupyter-widgets/controls",
          "model_name": "HTMLModel",
          "model_module_version": "1.5.0",
          "state": {
            "_dom_classes": [],
            "_model_module": "@jupyter-widgets/controls",
            "_model_module_version": "1.5.0",
            "_model_name": "HTMLModel",
            "_view_count": null,
            "_view_module": "@jupyter-widgets/controls",
            "_view_module_version": "1.5.0",
            "_view_name": "HTMLView",
            "description": "",
            "description_tooltip": null,
            "layout": "IPY_MODEL_a180083511014f07b82beed464f1fc5c",
            "placeholder": "​",
            "style": "IPY_MODEL_16797312fd8c48638404481f98b53943",
            "value": "vocab.txt: 100%"
          }
        },
        "48173c8852844cca9aca36fce42aa068": {
          "model_module": "@jupyter-widgets/controls",
          "model_name": "FloatProgressModel",
          "model_module_version": "1.5.0",
          "state": {
            "_dom_classes": [],
            "_model_module": "@jupyter-widgets/controls",
            "_model_module_version": "1.5.0",
            "_model_name": "FloatProgressModel",
            "_view_count": null,
            "_view_module": "@jupyter-widgets/controls",
            "_view_module_version": "1.5.0",
            "_view_name": "ProgressView",
            "bar_style": "success",
            "description": "",
            "description_tooltip": null,
            "layout": "IPY_MODEL_b247c056b16b4e0399b32c3aa7de10bc",
            "max": 231508,
            "min": 0,
            "orientation": "horizontal",
            "style": "IPY_MODEL_a30d31702bb14a769677e08391497ca6",
            "value": 231508
          }
        },
        "69923f3980f948c99ad0c3b2ca454981": {
          "model_module": "@jupyter-widgets/controls",
          "model_name": "HTMLModel",
          "model_module_version": "1.5.0",
          "state": {
            "_dom_classes": [],
            "_model_module": "@jupyter-widgets/controls",
            "_model_module_version": "1.5.0",
            "_model_name": "HTMLModel",
            "_view_count": null,
            "_view_module": "@jupyter-widgets/controls",
            "_view_module_version": "1.5.0",
            "_view_name": "HTMLView",
            "description": "",
            "description_tooltip": null,
            "layout": "IPY_MODEL_014d55aeac624c3ead4f885ddb6d2d9b",
            "placeholder": "​",
            "style": "IPY_MODEL_8c49e4c1a9a04291b7bec1ee07dc4f59",
            "value": " 232k/232k [00:00&lt;00:00, 3.08MB/s]"
          }
        },
        "4826609fa7064c0e8586379b84654722": {
          "model_module": "@jupyter-widgets/base",
          "model_name": "LayoutModel",
          "model_module_version": "1.2.0",
          "state": {
            "_model_module": "@jupyter-widgets/base",
            "_model_module_version": "1.2.0",
            "_model_name": "LayoutModel",
            "_view_count": null,
            "_view_module": "@jupyter-widgets/base",
            "_view_module_version": "1.2.0",
            "_view_name": "LayoutView",
            "align_content": null,
            "align_items": null,
            "align_self": null,
            "border": null,
            "bottom": null,
            "display": null,
            "flex": null,
            "flex_flow": null,
            "grid_area": null,
            "grid_auto_columns": null,
            "grid_auto_flow": null,
            "grid_auto_rows": null,
            "grid_column": null,
            "grid_gap": null,
            "grid_row": null,
            "grid_template_areas": null,
            "grid_template_columns": null,
            "grid_template_rows": null,
            "height": null,
            "justify_content": null,
            "justify_items": null,
            "left": null,
            "margin": null,
            "max_height": null,
            "max_width": null,
            "min_height": null,
            "min_width": null,
            "object_fit": null,
            "object_position": null,
            "order": null,
            "overflow": null,
            "overflow_x": null,
            "overflow_y": null,
            "padding": null,
            "right": null,
            "top": null,
            "visibility": null,
            "width": null
          }
        },
        "a180083511014f07b82beed464f1fc5c": {
          "model_module": "@jupyter-widgets/base",
          "model_name": "LayoutModel",
          "model_module_version": "1.2.0",
          "state": {
            "_model_module": "@jupyter-widgets/base",
            "_model_module_version": "1.2.0",
            "_model_name": "LayoutModel",
            "_view_count": null,
            "_view_module": "@jupyter-widgets/base",
            "_view_module_version": "1.2.0",
            "_view_name": "LayoutView",
            "align_content": null,
            "align_items": null,
            "align_self": null,
            "border": null,
            "bottom": null,
            "display": null,
            "flex": null,
            "flex_flow": null,
            "grid_area": null,
            "grid_auto_columns": null,
            "grid_auto_flow": null,
            "grid_auto_rows": null,
            "grid_column": null,
            "grid_gap": null,
            "grid_row": null,
            "grid_template_areas": null,
            "grid_template_columns": null,
            "grid_template_rows": null,
            "height": null,
            "justify_content": null,
            "justify_items": null,
            "left": null,
            "margin": null,
            "max_height": null,
            "max_width": null,
            "min_height": null,
            "min_width": null,
            "object_fit": null,
            "object_position": null,
            "order": null,
            "overflow": null,
            "overflow_x": null,
            "overflow_y": null,
            "padding": null,
            "right": null,
            "top": null,
            "visibility": null,
            "width": null
          }
        },
        "16797312fd8c48638404481f98b53943": {
          "model_module": "@jupyter-widgets/controls",
          "model_name": "DescriptionStyleModel",
          "model_module_version": "1.5.0",
          "state": {
            "_model_module": "@jupyter-widgets/controls",
            "_model_module_version": "1.5.0",
            "_model_name": "DescriptionStyleModel",
            "_view_count": null,
            "_view_module": "@jupyter-widgets/base",
            "_view_module_version": "1.2.0",
            "_view_name": "StyleView",
            "description_width": ""
          }
        },
        "b247c056b16b4e0399b32c3aa7de10bc": {
          "model_module": "@jupyter-widgets/base",
          "model_name": "LayoutModel",
          "model_module_version": "1.2.0",
          "state": {
            "_model_module": "@jupyter-widgets/base",
            "_model_module_version": "1.2.0",
            "_model_name": "LayoutModel",
            "_view_count": null,
            "_view_module": "@jupyter-widgets/base",
            "_view_module_version": "1.2.0",
            "_view_name": "LayoutView",
            "align_content": null,
            "align_items": null,
            "align_self": null,
            "border": null,
            "bottom": null,
            "display": null,
            "flex": null,
            "flex_flow": null,
            "grid_area": null,
            "grid_auto_columns": null,
            "grid_auto_flow": null,
            "grid_auto_rows": null,
            "grid_column": null,
            "grid_gap": null,
            "grid_row": null,
            "grid_template_areas": null,
            "grid_template_columns": null,
            "grid_template_rows": null,
            "height": null,
            "justify_content": null,
            "justify_items": null,
            "left": null,
            "margin": null,
            "max_height": null,
            "max_width": null,
            "min_height": null,
            "min_width": null,
            "object_fit": null,
            "object_position": null,
            "order": null,
            "overflow": null,
            "overflow_x": null,
            "overflow_y": null,
            "padding": null,
            "right": null,
            "top": null,
            "visibility": null,
            "width": null
          }
        },
        "a30d31702bb14a769677e08391497ca6": {
          "model_module": "@jupyter-widgets/controls",
          "model_name": "ProgressStyleModel",
          "model_module_version": "1.5.0",
          "state": {
            "_model_module": "@jupyter-widgets/controls",
            "_model_module_version": "1.5.0",
            "_model_name": "ProgressStyleModel",
            "_view_count": null,
            "_view_module": "@jupyter-widgets/base",
            "_view_module_version": "1.2.0",
            "_view_name": "StyleView",
            "bar_color": null,
            "description_width": ""
          }
        },
        "014d55aeac624c3ead4f885ddb6d2d9b": {
          "model_module": "@jupyter-widgets/base",
          "model_name": "LayoutModel",
          "model_module_version": "1.2.0",
          "state": {
            "_model_module": "@jupyter-widgets/base",
            "_model_module_version": "1.2.0",
            "_model_name": "LayoutModel",
            "_view_count": null,
            "_view_module": "@jupyter-widgets/base",
            "_view_module_version": "1.2.0",
            "_view_name": "LayoutView",
            "align_content": null,
            "align_items": null,
            "align_self": null,
            "border": null,
            "bottom": null,
            "display": null,
            "flex": null,
            "flex_flow": null,
            "grid_area": null,
            "grid_auto_columns": null,
            "grid_auto_flow": null,
            "grid_auto_rows": null,
            "grid_column": null,
            "grid_gap": null,
            "grid_row": null,
            "grid_template_areas": null,
            "grid_template_columns": null,
            "grid_template_rows": null,
            "height": null,
            "justify_content": null,
            "justify_items": null,
            "left": null,
            "margin": null,
            "max_height": null,
            "max_width": null,
            "min_height": null,
            "min_width": null,
            "object_fit": null,
            "object_position": null,
            "order": null,
            "overflow": null,
            "overflow_x": null,
            "overflow_y": null,
            "padding": null,
            "right": null,
            "top": null,
            "visibility": null,
            "width": null
          }
        },
        "8c49e4c1a9a04291b7bec1ee07dc4f59": {
          "model_module": "@jupyter-widgets/controls",
          "model_name": "DescriptionStyleModel",
          "model_module_version": "1.5.0",
          "state": {
            "_model_module": "@jupyter-widgets/controls",
            "_model_module_version": "1.5.0",
            "_model_name": "DescriptionStyleModel",
            "_view_count": null,
            "_view_module": "@jupyter-widgets/base",
            "_view_module_version": "1.2.0",
            "_view_name": "StyleView",
            "description_width": ""
          }
        },
        "6d7a1c1dcabc4a6cb17d28ea454eef66": {
          "model_module": "@jupyter-widgets/controls",
          "model_name": "HBoxModel",
          "model_module_version": "1.5.0",
          "state": {
            "_dom_classes": [],
            "_model_module": "@jupyter-widgets/controls",
            "_model_module_version": "1.5.0",
            "_model_name": "HBoxModel",
            "_view_count": null,
            "_view_module": "@jupyter-widgets/controls",
            "_view_module_version": "1.5.0",
            "_view_name": "HBoxView",
            "box_style": "",
            "children": [
              "IPY_MODEL_dd26c6b91d9c4d37b8595a5cce2ba4d3",
              "IPY_MODEL_6891a8c100444b01bcab0ce6327a6395",
              "IPY_MODEL_3558196793f640958b044ff6b474b1cd"
            ],
            "layout": "IPY_MODEL_7ae99b81757a41f9b242aea2f7dd04e9"
          }
        },
        "dd26c6b91d9c4d37b8595a5cce2ba4d3": {
          "model_module": "@jupyter-widgets/controls",
          "model_name": "HTMLModel",
          "model_module_version": "1.5.0",
          "state": {
            "_dom_classes": [],
            "_model_module": "@jupyter-widgets/controls",
            "_model_module_version": "1.5.0",
            "_model_name": "HTMLModel",
            "_view_count": null,
            "_view_module": "@jupyter-widgets/controls",
            "_view_module_version": "1.5.0",
            "_view_name": "HTMLView",
            "description": "",
            "description_tooltip": null,
            "layout": "IPY_MODEL_3f3f938b39a04eb4b6f96d73afc87584",
            "placeholder": "​",
            "style": "IPY_MODEL_d270dde4fd184cbca0f2dfbb5544711a",
            "value": "tokenizer.json: 100%"
          }
        },
        "6891a8c100444b01bcab0ce6327a6395": {
          "model_module": "@jupyter-widgets/controls",
          "model_name": "FloatProgressModel",
          "model_module_version": "1.5.0",
          "state": {
            "_dom_classes": [],
            "_model_module": "@jupyter-widgets/controls",
            "_model_module_version": "1.5.0",
            "_model_name": "FloatProgressModel",
            "_view_count": null,
            "_view_module": "@jupyter-widgets/controls",
            "_view_module_version": "1.5.0",
            "_view_name": "ProgressView",
            "bar_style": "success",
            "description": "",
            "description_tooltip": null,
            "layout": "IPY_MODEL_d199d973e29c4a68be450ee223d3816e",
            "max": 466062,
            "min": 0,
            "orientation": "horizontal",
            "style": "IPY_MODEL_f3cc68c5282b40ac961547917971fb63",
            "value": 466062
          }
        },
        "3558196793f640958b044ff6b474b1cd": {
          "model_module": "@jupyter-widgets/controls",
          "model_name": "HTMLModel",
          "model_module_version": "1.5.0",
          "state": {
            "_dom_classes": [],
            "_model_module": "@jupyter-widgets/controls",
            "_model_module_version": "1.5.0",
            "_model_name": "HTMLModel",
            "_view_count": null,
            "_view_module": "@jupyter-widgets/controls",
            "_view_module_version": "1.5.0",
            "_view_name": "HTMLView",
            "description": "",
            "description_tooltip": null,
            "layout": "IPY_MODEL_14b81da6db324228938044c93f1e4a14",
            "placeholder": "​",
            "style": "IPY_MODEL_c8e9dd724f8a4aada831ba523434ab4e",
            "value": " 466k/466k [00:00&lt;00:00, 6.75MB/s]"
          }
        },
        "7ae99b81757a41f9b242aea2f7dd04e9": {
          "model_module": "@jupyter-widgets/base",
          "model_name": "LayoutModel",
          "model_module_version": "1.2.0",
          "state": {
            "_model_module": "@jupyter-widgets/base",
            "_model_module_version": "1.2.0",
            "_model_name": "LayoutModel",
            "_view_count": null,
            "_view_module": "@jupyter-widgets/base",
            "_view_module_version": "1.2.0",
            "_view_name": "LayoutView",
            "align_content": null,
            "align_items": null,
            "align_self": null,
            "border": null,
            "bottom": null,
            "display": null,
            "flex": null,
            "flex_flow": null,
            "grid_area": null,
            "grid_auto_columns": null,
            "grid_auto_flow": null,
            "grid_auto_rows": null,
            "grid_column": null,
            "grid_gap": null,
            "grid_row": null,
            "grid_template_areas": null,
            "grid_template_columns": null,
            "grid_template_rows": null,
            "height": null,
            "justify_content": null,
            "justify_items": null,
            "left": null,
            "margin": null,
            "max_height": null,
            "max_width": null,
            "min_height": null,
            "min_width": null,
            "object_fit": null,
            "object_position": null,
            "order": null,
            "overflow": null,
            "overflow_x": null,
            "overflow_y": null,
            "padding": null,
            "right": null,
            "top": null,
            "visibility": null,
            "width": null
          }
        },
        "3f3f938b39a04eb4b6f96d73afc87584": {
          "model_module": "@jupyter-widgets/base",
          "model_name": "LayoutModel",
          "model_module_version": "1.2.0",
          "state": {
            "_model_module": "@jupyter-widgets/base",
            "_model_module_version": "1.2.0",
            "_model_name": "LayoutModel",
            "_view_count": null,
            "_view_module": "@jupyter-widgets/base",
            "_view_module_version": "1.2.0",
            "_view_name": "LayoutView",
            "align_content": null,
            "align_items": null,
            "align_self": null,
            "border": null,
            "bottom": null,
            "display": null,
            "flex": null,
            "flex_flow": null,
            "grid_area": null,
            "grid_auto_columns": null,
            "grid_auto_flow": null,
            "grid_auto_rows": null,
            "grid_column": null,
            "grid_gap": null,
            "grid_row": null,
            "grid_template_areas": null,
            "grid_template_columns": null,
            "grid_template_rows": null,
            "height": null,
            "justify_content": null,
            "justify_items": null,
            "left": null,
            "margin": null,
            "max_height": null,
            "max_width": null,
            "min_height": null,
            "min_width": null,
            "object_fit": null,
            "object_position": null,
            "order": null,
            "overflow": null,
            "overflow_x": null,
            "overflow_y": null,
            "padding": null,
            "right": null,
            "top": null,
            "visibility": null,
            "width": null
          }
        },
        "d270dde4fd184cbca0f2dfbb5544711a": {
          "model_module": "@jupyter-widgets/controls",
          "model_name": "DescriptionStyleModel",
          "model_module_version": "1.5.0",
          "state": {
            "_model_module": "@jupyter-widgets/controls",
            "_model_module_version": "1.5.0",
            "_model_name": "DescriptionStyleModel",
            "_view_count": null,
            "_view_module": "@jupyter-widgets/base",
            "_view_module_version": "1.2.0",
            "_view_name": "StyleView",
            "description_width": ""
          }
        },
        "d199d973e29c4a68be450ee223d3816e": {
          "model_module": "@jupyter-widgets/base",
          "model_name": "LayoutModel",
          "model_module_version": "1.2.0",
          "state": {
            "_model_module": "@jupyter-widgets/base",
            "_model_module_version": "1.2.0",
            "_model_name": "LayoutModel",
            "_view_count": null,
            "_view_module": "@jupyter-widgets/base",
            "_view_module_version": "1.2.0",
            "_view_name": "LayoutView",
            "align_content": null,
            "align_items": null,
            "align_self": null,
            "border": null,
            "bottom": null,
            "display": null,
            "flex": null,
            "flex_flow": null,
            "grid_area": null,
            "grid_auto_columns": null,
            "grid_auto_flow": null,
            "grid_auto_rows": null,
            "grid_column": null,
            "grid_gap": null,
            "grid_row": null,
            "grid_template_areas": null,
            "grid_template_columns": null,
            "grid_template_rows": null,
            "height": null,
            "justify_content": null,
            "justify_items": null,
            "left": null,
            "margin": null,
            "max_height": null,
            "max_width": null,
            "min_height": null,
            "min_width": null,
            "object_fit": null,
            "object_position": null,
            "order": null,
            "overflow": null,
            "overflow_x": null,
            "overflow_y": null,
            "padding": null,
            "right": null,
            "top": null,
            "visibility": null,
            "width": null
          }
        },
        "f3cc68c5282b40ac961547917971fb63": {
          "model_module": "@jupyter-widgets/controls",
          "model_name": "ProgressStyleModel",
          "model_module_version": "1.5.0",
          "state": {
            "_model_module": "@jupyter-widgets/controls",
            "_model_module_version": "1.5.0",
            "_model_name": "ProgressStyleModel",
            "_view_count": null,
            "_view_module": "@jupyter-widgets/base",
            "_view_module_version": "1.2.0",
            "_view_name": "StyleView",
            "bar_color": null,
            "description_width": ""
          }
        },
        "14b81da6db324228938044c93f1e4a14": {
          "model_module": "@jupyter-widgets/base",
          "model_name": "LayoutModel",
          "model_module_version": "1.2.0",
          "state": {
            "_model_module": "@jupyter-widgets/base",
            "_model_module_version": "1.2.0",
            "_model_name": "LayoutModel",
            "_view_count": null,
            "_view_module": "@jupyter-widgets/base",
            "_view_module_version": "1.2.0",
            "_view_name": "LayoutView",
            "align_content": null,
            "align_items": null,
            "align_self": null,
            "border": null,
            "bottom": null,
            "display": null,
            "flex": null,
            "flex_flow": null,
            "grid_area": null,
            "grid_auto_columns": null,
            "grid_auto_flow": null,
            "grid_auto_rows": null,
            "grid_column": null,
            "grid_gap": null,
            "grid_row": null,
            "grid_template_areas": null,
            "grid_template_columns": null,
            "grid_template_rows": null,
            "height": null,
            "justify_content": null,
            "justify_items": null,
            "left": null,
            "margin": null,
            "max_height": null,
            "max_width": null,
            "min_height": null,
            "min_width": null,
            "object_fit": null,
            "object_position": null,
            "order": null,
            "overflow": null,
            "overflow_x": null,
            "overflow_y": null,
            "padding": null,
            "right": null,
            "top": null,
            "visibility": null,
            "width": null
          }
        },
        "c8e9dd724f8a4aada831ba523434ab4e": {
          "model_module": "@jupyter-widgets/controls",
          "model_name": "DescriptionStyleModel",
          "model_module_version": "1.5.0",
          "state": {
            "_model_module": "@jupyter-widgets/controls",
            "_model_module_version": "1.5.0",
            "_model_name": "DescriptionStyleModel",
            "_view_count": null,
            "_view_module": "@jupyter-widgets/base",
            "_view_module_version": "1.2.0",
            "_view_name": "StyleView",
            "description_width": ""
          }
        },
        "52e3c43119a24720bc5aa2c57f9c968d": {
          "model_module": "@jupyter-widgets/controls",
          "model_name": "HBoxModel",
          "model_module_version": "1.5.0",
          "state": {
            "_dom_classes": [],
            "_model_module": "@jupyter-widgets/controls",
            "_model_module_version": "1.5.0",
            "_model_name": "HBoxModel",
            "_view_count": null,
            "_view_module": "@jupyter-widgets/controls",
            "_view_module_version": "1.5.0",
            "_view_name": "HBoxView",
            "box_style": "",
            "children": [
              "IPY_MODEL_cf2fd688e4e74ec5b53693f398f49907",
              "IPY_MODEL_c26ea8594e3346b5b17853dabf5fa12c",
              "IPY_MODEL_f3d6d97d6f8c4ec2be677bd36020c567"
            ],
            "layout": "IPY_MODEL_a17538277cf740b69160596349c35f25"
          }
        },
        "cf2fd688e4e74ec5b53693f398f49907": {
          "model_module": "@jupyter-widgets/controls",
          "model_name": "HTMLModel",
          "model_module_version": "1.5.0",
          "state": {
            "_dom_classes": [],
            "_model_module": "@jupyter-widgets/controls",
            "_model_module_version": "1.5.0",
            "_model_name": "HTMLModel",
            "_view_count": null,
            "_view_module": "@jupyter-widgets/controls",
            "_view_module_version": "1.5.0",
            "_view_name": "HTMLView",
            "description": "",
            "description_tooltip": null,
            "layout": "IPY_MODEL_2883ca77cc324c419d7646b5198804a4",
            "placeholder": "​",
            "style": "IPY_MODEL_6f93ba726b644f7cae4c85708466a626",
            "value": "config.json: 100%"
          }
        },
        "c26ea8594e3346b5b17853dabf5fa12c": {
          "model_module": "@jupyter-widgets/controls",
          "model_name": "FloatProgressModel",
          "model_module_version": "1.5.0",
          "state": {
            "_dom_classes": [],
            "_model_module": "@jupyter-widgets/controls",
            "_model_module_version": "1.5.0",
            "_model_name": "FloatProgressModel",
            "_view_count": null,
            "_view_module": "@jupyter-widgets/controls",
            "_view_module_version": "1.5.0",
            "_view_name": "ProgressView",
            "bar_style": "success",
            "description": "",
            "description_tooltip": null,
            "layout": "IPY_MODEL_d0f1aeb42552428a93f532374a97a495",
            "max": 570,
            "min": 0,
            "orientation": "horizontal",
            "style": "IPY_MODEL_62936cec699f4365a3508862e10514ff",
            "value": 570
          }
        },
        "f3d6d97d6f8c4ec2be677bd36020c567": {
          "model_module": "@jupyter-widgets/controls",
          "model_name": "HTMLModel",
          "model_module_version": "1.5.0",
          "state": {
            "_dom_classes": [],
            "_model_module": "@jupyter-widgets/controls",
            "_model_module_version": "1.5.0",
            "_model_name": "HTMLModel",
            "_view_count": null,
            "_view_module": "@jupyter-widgets/controls",
            "_view_module_version": "1.5.0",
            "_view_name": "HTMLView",
            "description": "",
            "description_tooltip": null,
            "layout": "IPY_MODEL_0e41e99307c5410f847209779e43e466",
            "placeholder": "​",
            "style": "IPY_MODEL_390a4755bfa14637a64ff92800fd3576",
            "value": " 570/570 [00:00&lt;00:00, 37.0kB/s]"
          }
        },
        "a17538277cf740b69160596349c35f25": {
          "model_module": "@jupyter-widgets/base",
          "model_name": "LayoutModel",
          "model_module_version": "1.2.0",
          "state": {
            "_model_module": "@jupyter-widgets/base",
            "_model_module_version": "1.2.0",
            "_model_name": "LayoutModel",
            "_view_count": null,
            "_view_module": "@jupyter-widgets/base",
            "_view_module_version": "1.2.0",
            "_view_name": "LayoutView",
            "align_content": null,
            "align_items": null,
            "align_self": null,
            "border": null,
            "bottom": null,
            "display": null,
            "flex": null,
            "flex_flow": null,
            "grid_area": null,
            "grid_auto_columns": null,
            "grid_auto_flow": null,
            "grid_auto_rows": null,
            "grid_column": null,
            "grid_gap": null,
            "grid_row": null,
            "grid_template_areas": null,
            "grid_template_columns": null,
            "grid_template_rows": null,
            "height": null,
            "justify_content": null,
            "justify_items": null,
            "left": null,
            "margin": null,
            "max_height": null,
            "max_width": null,
            "min_height": null,
            "min_width": null,
            "object_fit": null,
            "object_position": null,
            "order": null,
            "overflow": null,
            "overflow_x": null,
            "overflow_y": null,
            "padding": null,
            "right": null,
            "top": null,
            "visibility": null,
            "width": null
          }
        },
        "2883ca77cc324c419d7646b5198804a4": {
          "model_module": "@jupyter-widgets/base",
          "model_name": "LayoutModel",
          "model_module_version": "1.2.0",
          "state": {
            "_model_module": "@jupyter-widgets/base",
            "_model_module_version": "1.2.0",
            "_model_name": "LayoutModel",
            "_view_count": null,
            "_view_module": "@jupyter-widgets/base",
            "_view_module_version": "1.2.0",
            "_view_name": "LayoutView",
            "align_content": null,
            "align_items": null,
            "align_self": null,
            "border": null,
            "bottom": null,
            "display": null,
            "flex": null,
            "flex_flow": null,
            "grid_area": null,
            "grid_auto_columns": null,
            "grid_auto_flow": null,
            "grid_auto_rows": null,
            "grid_column": null,
            "grid_gap": null,
            "grid_row": null,
            "grid_template_areas": null,
            "grid_template_columns": null,
            "grid_template_rows": null,
            "height": null,
            "justify_content": null,
            "justify_items": null,
            "left": null,
            "margin": null,
            "max_height": null,
            "max_width": null,
            "min_height": null,
            "min_width": null,
            "object_fit": null,
            "object_position": null,
            "order": null,
            "overflow": null,
            "overflow_x": null,
            "overflow_y": null,
            "padding": null,
            "right": null,
            "top": null,
            "visibility": null,
            "width": null
          }
        },
        "6f93ba726b644f7cae4c85708466a626": {
          "model_module": "@jupyter-widgets/controls",
          "model_name": "DescriptionStyleModel",
          "model_module_version": "1.5.0",
          "state": {
            "_model_module": "@jupyter-widgets/controls",
            "_model_module_version": "1.5.0",
            "_model_name": "DescriptionStyleModel",
            "_view_count": null,
            "_view_module": "@jupyter-widgets/base",
            "_view_module_version": "1.2.0",
            "_view_name": "StyleView",
            "description_width": ""
          }
        },
        "d0f1aeb42552428a93f532374a97a495": {
          "model_module": "@jupyter-widgets/base",
          "model_name": "LayoutModel",
          "model_module_version": "1.2.0",
          "state": {
            "_model_module": "@jupyter-widgets/base",
            "_model_module_version": "1.2.0",
            "_model_name": "LayoutModel",
            "_view_count": null,
            "_view_module": "@jupyter-widgets/base",
            "_view_module_version": "1.2.0",
            "_view_name": "LayoutView",
            "align_content": null,
            "align_items": null,
            "align_self": null,
            "border": null,
            "bottom": null,
            "display": null,
            "flex": null,
            "flex_flow": null,
            "grid_area": null,
            "grid_auto_columns": null,
            "grid_auto_flow": null,
            "grid_auto_rows": null,
            "grid_column": null,
            "grid_gap": null,
            "grid_row": null,
            "grid_template_areas": null,
            "grid_template_columns": null,
            "grid_template_rows": null,
            "height": null,
            "justify_content": null,
            "justify_items": null,
            "left": null,
            "margin": null,
            "max_height": null,
            "max_width": null,
            "min_height": null,
            "min_width": null,
            "object_fit": null,
            "object_position": null,
            "order": null,
            "overflow": null,
            "overflow_x": null,
            "overflow_y": null,
            "padding": null,
            "right": null,
            "top": null,
            "visibility": null,
            "width": null
          }
        },
        "62936cec699f4365a3508862e10514ff": {
          "model_module": "@jupyter-widgets/controls",
          "model_name": "ProgressStyleModel",
          "model_module_version": "1.5.0",
          "state": {
            "_model_module": "@jupyter-widgets/controls",
            "_model_module_version": "1.5.0",
            "_model_name": "ProgressStyleModel",
            "_view_count": null,
            "_view_module": "@jupyter-widgets/base",
            "_view_module_version": "1.2.0",
            "_view_name": "StyleView",
            "bar_color": null,
            "description_width": ""
          }
        },
        "0e41e99307c5410f847209779e43e466": {
          "model_module": "@jupyter-widgets/base",
          "model_name": "LayoutModel",
          "model_module_version": "1.2.0",
          "state": {
            "_model_module": "@jupyter-widgets/base",
            "_model_module_version": "1.2.0",
            "_model_name": "LayoutModel",
            "_view_count": null,
            "_view_module": "@jupyter-widgets/base",
            "_view_module_version": "1.2.0",
            "_view_name": "LayoutView",
            "align_content": null,
            "align_items": null,
            "align_self": null,
            "border": null,
            "bottom": null,
            "display": null,
            "flex": null,
            "flex_flow": null,
            "grid_area": null,
            "grid_auto_columns": null,
            "grid_auto_flow": null,
            "grid_auto_rows": null,
            "grid_column": null,
            "grid_gap": null,
            "grid_row": null,
            "grid_template_areas": null,
            "grid_template_columns": null,
            "grid_template_rows": null,
            "height": null,
            "justify_content": null,
            "justify_items": null,
            "left": null,
            "margin": null,
            "max_height": null,
            "max_width": null,
            "min_height": null,
            "min_width": null,
            "object_fit": null,
            "object_position": null,
            "order": null,
            "overflow": null,
            "overflow_x": null,
            "overflow_y": null,
            "padding": null,
            "right": null,
            "top": null,
            "visibility": null,
            "width": null
          }
        },
        "390a4755bfa14637a64ff92800fd3576": {
          "model_module": "@jupyter-widgets/controls",
          "model_name": "DescriptionStyleModel",
          "model_module_version": "1.5.0",
          "state": {
            "_model_module": "@jupyter-widgets/controls",
            "_model_module_version": "1.5.0",
            "_model_name": "DescriptionStyleModel",
            "_view_count": null,
            "_view_module": "@jupyter-widgets/base",
            "_view_module_version": "1.2.0",
            "_view_name": "StyleView",
            "description_width": ""
          }
        },
        "eb69006779cf47adadc0ff21a09aa968": {
          "model_module": "@jupyter-widgets/controls",
          "model_name": "HBoxModel",
          "model_module_version": "1.5.0",
          "state": {
            "_dom_classes": [],
            "_model_module": "@jupyter-widgets/controls",
            "_model_module_version": "1.5.0",
            "_model_name": "HBoxModel",
            "_view_count": null,
            "_view_module": "@jupyter-widgets/controls",
            "_view_module_version": "1.5.0",
            "_view_name": "HBoxView",
            "box_style": "",
            "children": [
              "IPY_MODEL_9f297161bcf74c59a3eb764013320124",
              "IPY_MODEL_aac7a355a0564d4c869842231c94259d",
              "IPY_MODEL_e774f58612d04de6a905d7f5d3d958c5"
            ],
            "layout": "IPY_MODEL_b4daaf81c8474218b2089005e7137048"
          }
        },
        "9f297161bcf74c59a3eb764013320124": {
          "model_module": "@jupyter-widgets/controls",
          "model_name": "HTMLModel",
          "model_module_version": "1.5.0",
          "state": {
            "_dom_classes": [],
            "_model_module": "@jupyter-widgets/controls",
            "_model_module_version": "1.5.0",
            "_model_name": "HTMLModel",
            "_view_count": null,
            "_view_module": "@jupyter-widgets/controls",
            "_view_module_version": "1.5.0",
            "_view_name": "HTMLView",
            "description": "",
            "description_tooltip": null,
            "layout": "IPY_MODEL_f19000988cf747d8a27738d60f20e5c7",
            "placeholder": "​",
            "style": "IPY_MODEL_592f6385b3714089a309f7d9c573d5d9",
            "value": "Map: 100%"
          }
        },
        "aac7a355a0564d4c869842231c94259d": {
          "model_module": "@jupyter-widgets/controls",
          "model_name": "FloatProgressModel",
          "model_module_version": "1.5.0",
          "state": {
            "_dom_classes": [],
            "_model_module": "@jupyter-widgets/controls",
            "_model_module_version": "1.5.0",
            "_model_name": "FloatProgressModel",
            "_view_count": null,
            "_view_module": "@jupyter-widgets/controls",
            "_view_module_version": "1.5.0",
            "_view_name": "ProgressView",
            "bar_style": "success",
            "description": "",
            "description_tooltip": null,
            "layout": "IPY_MODEL_8ba55fb2bd174226b70343349d7fb991",
            "max": 2100,
            "min": 0,
            "orientation": "horizontal",
            "style": "IPY_MODEL_21109eb2bd424af78ba71ade52b8c46c",
            "value": 2100
          }
        },
        "e774f58612d04de6a905d7f5d3d958c5": {
          "model_module": "@jupyter-widgets/controls",
          "model_name": "HTMLModel",
          "model_module_version": "1.5.0",
          "state": {
            "_dom_classes": [],
            "_model_module": "@jupyter-widgets/controls",
            "_model_module_version": "1.5.0",
            "_model_name": "HTMLModel",
            "_view_count": null,
            "_view_module": "@jupyter-widgets/controls",
            "_view_module_version": "1.5.0",
            "_view_name": "HTMLView",
            "description": "",
            "description_tooltip": null,
            "layout": "IPY_MODEL_595d38a4e2624d709d29ec4f6286d1d9",
            "placeholder": "​",
            "style": "IPY_MODEL_dc71bf04d78644ba97f9ebde1c714c83",
            "value": " 2100/2100 [00:00&lt;00:00, 4520.25 examples/s]"
          }
        },
        "b4daaf81c8474218b2089005e7137048": {
          "model_module": "@jupyter-widgets/base",
          "model_name": "LayoutModel",
          "model_module_version": "1.2.0",
          "state": {
            "_model_module": "@jupyter-widgets/base",
            "_model_module_version": "1.2.0",
            "_model_name": "LayoutModel",
            "_view_count": null,
            "_view_module": "@jupyter-widgets/base",
            "_view_module_version": "1.2.0",
            "_view_name": "LayoutView",
            "align_content": null,
            "align_items": null,
            "align_self": null,
            "border": null,
            "bottom": null,
            "display": null,
            "flex": null,
            "flex_flow": null,
            "grid_area": null,
            "grid_auto_columns": null,
            "grid_auto_flow": null,
            "grid_auto_rows": null,
            "grid_column": null,
            "grid_gap": null,
            "grid_row": null,
            "grid_template_areas": null,
            "grid_template_columns": null,
            "grid_template_rows": null,
            "height": null,
            "justify_content": null,
            "justify_items": null,
            "left": null,
            "margin": null,
            "max_height": null,
            "max_width": null,
            "min_height": null,
            "min_width": null,
            "object_fit": null,
            "object_position": null,
            "order": null,
            "overflow": null,
            "overflow_x": null,
            "overflow_y": null,
            "padding": null,
            "right": null,
            "top": null,
            "visibility": null,
            "width": null
          }
        },
        "f19000988cf747d8a27738d60f20e5c7": {
          "model_module": "@jupyter-widgets/base",
          "model_name": "LayoutModel",
          "model_module_version": "1.2.0",
          "state": {
            "_model_module": "@jupyter-widgets/base",
            "_model_module_version": "1.2.0",
            "_model_name": "LayoutModel",
            "_view_count": null,
            "_view_module": "@jupyter-widgets/base",
            "_view_module_version": "1.2.0",
            "_view_name": "LayoutView",
            "align_content": null,
            "align_items": null,
            "align_self": null,
            "border": null,
            "bottom": null,
            "display": null,
            "flex": null,
            "flex_flow": null,
            "grid_area": null,
            "grid_auto_columns": null,
            "grid_auto_flow": null,
            "grid_auto_rows": null,
            "grid_column": null,
            "grid_gap": null,
            "grid_row": null,
            "grid_template_areas": null,
            "grid_template_columns": null,
            "grid_template_rows": null,
            "height": null,
            "justify_content": null,
            "justify_items": null,
            "left": null,
            "margin": null,
            "max_height": null,
            "max_width": null,
            "min_height": null,
            "min_width": null,
            "object_fit": null,
            "object_position": null,
            "order": null,
            "overflow": null,
            "overflow_x": null,
            "overflow_y": null,
            "padding": null,
            "right": null,
            "top": null,
            "visibility": null,
            "width": null
          }
        },
        "592f6385b3714089a309f7d9c573d5d9": {
          "model_module": "@jupyter-widgets/controls",
          "model_name": "DescriptionStyleModel",
          "model_module_version": "1.5.0",
          "state": {
            "_model_module": "@jupyter-widgets/controls",
            "_model_module_version": "1.5.0",
            "_model_name": "DescriptionStyleModel",
            "_view_count": null,
            "_view_module": "@jupyter-widgets/base",
            "_view_module_version": "1.2.0",
            "_view_name": "StyleView",
            "description_width": ""
          }
        },
        "8ba55fb2bd174226b70343349d7fb991": {
          "model_module": "@jupyter-widgets/base",
          "model_name": "LayoutModel",
          "model_module_version": "1.2.0",
          "state": {
            "_model_module": "@jupyter-widgets/base",
            "_model_module_version": "1.2.0",
            "_model_name": "LayoutModel",
            "_view_count": null,
            "_view_module": "@jupyter-widgets/base",
            "_view_module_version": "1.2.0",
            "_view_name": "LayoutView",
            "align_content": null,
            "align_items": null,
            "align_self": null,
            "border": null,
            "bottom": null,
            "display": null,
            "flex": null,
            "flex_flow": null,
            "grid_area": null,
            "grid_auto_columns": null,
            "grid_auto_flow": null,
            "grid_auto_rows": null,
            "grid_column": null,
            "grid_gap": null,
            "grid_row": null,
            "grid_template_areas": null,
            "grid_template_columns": null,
            "grid_template_rows": null,
            "height": null,
            "justify_content": null,
            "justify_items": null,
            "left": null,
            "margin": null,
            "max_height": null,
            "max_width": null,
            "min_height": null,
            "min_width": null,
            "object_fit": null,
            "object_position": null,
            "order": null,
            "overflow": null,
            "overflow_x": null,
            "overflow_y": null,
            "padding": null,
            "right": null,
            "top": null,
            "visibility": null,
            "width": null
          }
        },
        "21109eb2bd424af78ba71ade52b8c46c": {
          "model_module": "@jupyter-widgets/controls",
          "model_name": "ProgressStyleModel",
          "model_module_version": "1.5.0",
          "state": {
            "_model_module": "@jupyter-widgets/controls",
            "_model_module_version": "1.5.0",
            "_model_name": "ProgressStyleModel",
            "_view_count": null,
            "_view_module": "@jupyter-widgets/base",
            "_view_module_version": "1.2.0",
            "_view_name": "StyleView",
            "bar_color": null,
            "description_width": ""
          }
        },
        "595d38a4e2624d709d29ec4f6286d1d9": {
          "model_module": "@jupyter-widgets/base",
          "model_name": "LayoutModel",
          "model_module_version": "1.2.0",
          "state": {
            "_model_module": "@jupyter-widgets/base",
            "_model_module_version": "1.2.0",
            "_model_name": "LayoutModel",
            "_view_count": null,
            "_view_module": "@jupyter-widgets/base",
            "_view_module_version": "1.2.0",
            "_view_name": "LayoutView",
            "align_content": null,
            "align_items": null,
            "align_self": null,
            "border": null,
            "bottom": null,
            "display": null,
            "flex": null,
            "flex_flow": null,
            "grid_area": null,
            "grid_auto_columns": null,
            "grid_auto_flow": null,
            "grid_auto_rows": null,
            "grid_column": null,
            "grid_gap": null,
            "grid_row": null,
            "grid_template_areas": null,
            "grid_template_columns": null,
            "grid_template_rows": null,
            "height": null,
            "justify_content": null,
            "justify_items": null,
            "left": null,
            "margin": null,
            "max_height": null,
            "max_width": null,
            "min_height": null,
            "min_width": null,
            "object_fit": null,
            "object_position": null,
            "order": null,
            "overflow": null,
            "overflow_x": null,
            "overflow_y": null,
            "padding": null,
            "right": null,
            "top": null,
            "visibility": null,
            "width": null
          }
        },
        "dc71bf04d78644ba97f9ebde1c714c83": {
          "model_module": "@jupyter-widgets/controls",
          "model_name": "DescriptionStyleModel",
          "model_module_version": "1.5.0",
          "state": {
            "_model_module": "@jupyter-widgets/controls",
            "_model_module_version": "1.5.0",
            "_model_name": "DescriptionStyleModel",
            "_view_count": null,
            "_view_module": "@jupyter-widgets/base",
            "_view_module_version": "1.2.0",
            "_view_name": "StyleView",
            "description_width": ""
          }
        },
        "6c305576969f4ccdb2536a252147d37f": {
          "model_module": "@jupyter-widgets/controls",
          "model_name": "HBoxModel",
          "model_module_version": "1.5.0",
          "state": {
            "_dom_classes": [],
            "_model_module": "@jupyter-widgets/controls",
            "_model_module_version": "1.5.0",
            "_model_name": "HBoxModel",
            "_view_count": null,
            "_view_module": "@jupyter-widgets/controls",
            "_view_module_version": "1.5.0",
            "_view_name": "HBoxView",
            "box_style": "",
            "children": [
              "IPY_MODEL_b9e94c5a9af344188b547c13ad90ff0f",
              "IPY_MODEL_376678f9f0bd42d1b4519eacc541a644",
              "IPY_MODEL_426719f246744a1191cba9fc1ecf01ee"
            ],
            "layout": "IPY_MODEL_6eea77552a0f47e99646f5f5716b8e43"
          }
        },
        "b9e94c5a9af344188b547c13ad90ff0f": {
          "model_module": "@jupyter-widgets/controls",
          "model_name": "HTMLModel",
          "model_module_version": "1.5.0",
          "state": {
            "_dom_classes": [],
            "_model_module": "@jupyter-widgets/controls",
            "_model_module_version": "1.5.0",
            "_model_name": "HTMLModel",
            "_view_count": null,
            "_view_module": "@jupyter-widgets/controls",
            "_view_module_version": "1.5.0",
            "_view_name": "HTMLView",
            "description": "",
            "description_tooltip": null,
            "layout": "IPY_MODEL_cc4157317bce48e4bacff3385df20d66",
            "placeholder": "​",
            "style": "IPY_MODEL_b2a66dbb130e4339b2e31c494041fdfa",
            "value": "Map: 100%"
          }
        },
        "376678f9f0bd42d1b4519eacc541a644": {
          "model_module": "@jupyter-widgets/controls",
          "model_name": "FloatProgressModel",
          "model_module_version": "1.5.0",
          "state": {
            "_dom_classes": [],
            "_model_module": "@jupyter-widgets/controls",
            "_model_module_version": "1.5.0",
            "_model_name": "FloatProgressModel",
            "_view_count": null,
            "_view_module": "@jupyter-widgets/controls",
            "_view_module_version": "1.5.0",
            "_view_name": "ProgressView",
            "bar_style": "success",
            "description": "",
            "description_tooltip": null,
            "layout": "IPY_MODEL_1aa24594b6ae49d0b7707d7cff665b2b",
            "max": 900,
            "min": 0,
            "orientation": "horizontal",
            "style": "IPY_MODEL_a3997aa43efd49ddac8895ea532c720a",
            "value": 900
          }
        },
        "426719f246744a1191cba9fc1ecf01ee": {
          "model_module": "@jupyter-widgets/controls",
          "model_name": "HTMLModel",
          "model_module_version": "1.5.0",
          "state": {
            "_dom_classes": [],
            "_model_module": "@jupyter-widgets/controls",
            "_model_module_version": "1.5.0",
            "_model_name": "HTMLModel",
            "_view_count": null,
            "_view_module": "@jupyter-widgets/controls",
            "_view_module_version": "1.5.0",
            "_view_name": "HTMLView",
            "description": "",
            "description_tooltip": null,
            "layout": "IPY_MODEL_e18868d6384e4ff0b6e3c76d6a761b22",
            "placeholder": "​",
            "style": "IPY_MODEL_166d3a627cb34bc7955a834bf7d23502",
            "value": " 900/900 [00:00&lt;00:00, 3216.89 examples/s]"
          }
        },
        "6eea77552a0f47e99646f5f5716b8e43": {
          "model_module": "@jupyter-widgets/base",
          "model_name": "LayoutModel",
          "model_module_version": "1.2.0",
          "state": {
            "_model_module": "@jupyter-widgets/base",
            "_model_module_version": "1.2.0",
            "_model_name": "LayoutModel",
            "_view_count": null,
            "_view_module": "@jupyter-widgets/base",
            "_view_module_version": "1.2.0",
            "_view_name": "LayoutView",
            "align_content": null,
            "align_items": null,
            "align_self": null,
            "border": null,
            "bottom": null,
            "display": null,
            "flex": null,
            "flex_flow": null,
            "grid_area": null,
            "grid_auto_columns": null,
            "grid_auto_flow": null,
            "grid_auto_rows": null,
            "grid_column": null,
            "grid_gap": null,
            "grid_row": null,
            "grid_template_areas": null,
            "grid_template_columns": null,
            "grid_template_rows": null,
            "height": null,
            "justify_content": null,
            "justify_items": null,
            "left": null,
            "margin": null,
            "max_height": null,
            "max_width": null,
            "min_height": null,
            "min_width": null,
            "object_fit": null,
            "object_position": null,
            "order": null,
            "overflow": null,
            "overflow_x": null,
            "overflow_y": null,
            "padding": null,
            "right": null,
            "top": null,
            "visibility": null,
            "width": null
          }
        },
        "cc4157317bce48e4bacff3385df20d66": {
          "model_module": "@jupyter-widgets/base",
          "model_name": "LayoutModel",
          "model_module_version": "1.2.0",
          "state": {
            "_model_module": "@jupyter-widgets/base",
            "_model_module_version": "1.2.0",
            "_model_name": "LayoutModel",
            "_view_count": null,
            "_view_module": "@jupyter-widgets/base",
            "_view_module_version": "1.2.0",
            "_view_name": "LayoutView",
            "align_content": null,
            "align_items": null,
            "align_self": null,
            "border": null,
            "bottom": null,
            "display": null,
            "flex": null,
            "flex_flow": null,
            "grid_area": null,
            "grid_auto_columns": null,
            "grid_auto_flow": null,
            "grid_auto_rows": null,
            "grid_column": null,
            "grid_gap": null,
            "grid_row": null,
            "grid_template_areas": null,
            "grid_template_columns": null,
            "grid_template_rows": null,
            "height": null,
            "justify_content": null,
            "justify_items": null,
            "left": null,
            "margin": null,
            "max_height": null,
            "max_width": null,
            "min_height": null,
            "min_width": null,
            "object_fit": null,
            "object_position": null,
            "order": null,
            "overflow": null,
            "overflow_x": null,
            "overflow_y": null,
            "padding": null,
            "right": null,
            "top": null,
            "visibility": null,
            "width": null
          }
        },
        "b2a66dbb130e4339b2e31c494041fdfa": {
          "model_module": "@jupyter-widgets/controls",
          "model_name": "DescriptionStyleModel",
          "model_module_version": "1.5.0",
          "state": {
            "_model_module": "@jupyter-widgets/controls",
            "_model_module_version": "1.5.0",
            "_model_name": "DescriptionStyleModel",
            "_view_count": null,
            "_view_module": "@jupyter-widgets/base",
            "_view_module_version": "1.2.0",
            "_view_name": "StyleView",
            "description_width": ""
          }
        },
        "1aa24594b6ae49d0b7707d7cff665b2b": {
          "model_module": "@jupyter-widgets/base",
          "model_name": "LayoutModel",
          "model_module_version": "1.2.0",
          "state": {
            "_model_module": "@jupyter-widgets/base",
            "_model_module_version": "1.2.0",
            "_model_name": "LayoutModel",
            "_view_count": null,
            "_view_module": "@jupyter-widgets/base",
            "_view_module_version": "1.2.0",
            "_view_name": "LayoutView",
            "align_content": null,
            "align_items": null,
            "align_self": null,
            "border": null,
            "bottom": null,
            "display": null,
            "flex": null,
            "flex_flow": null,
            "grid_area": null,
            "grid_auto_columns": null,
            "grid_auto_flow": null,
            "grid_auto_rows": null,
            "grid_column": null,
            "grid_gap": null,
            "grid_row": null,
            "grid_template_areas": null,
            "grid_template_columns": null,
            "grid_template_rows": null,
            "height": null,
            "justify_content": null,
            "justify_items": null,
            "left": null,
            "margin": null,
            "max_height": null,
            "max_width": null,
            "min_height": null,
            "min_width": null,
            "object_fit": null,
            "object_position": null,
            "order": null,
            "overflow": null,
            "overflow_x": null,
            "overflow_y": null,
            "padding": null,
            "right": null,
            "top": null,
            "visibility": null,
            "width": null
          }
        },
        "a3997aa43efd49ddac8895ea532c720a": {
          "model_module": "@jupyter-widgets/controls",
          "model_name": "ProgressStyleModel",
          "model_module_version": "1.5.0",
          "state": {
            "_model_module": "@jupyter-widgets/controls",
            "_model_module_version": "1.5.0",
            "_model_name": "ProgressStyleModel",
            "_view_count": null,
            "_view_module": "@jupyter-widgets/base",
            "_view_module_version": "1.2.0",
            "_view_name": "StyleView",
            "bar_color": null,
            "description_width": ""
          }
        },
        "e18868d6384e4ff0b6e3c76d6a761b22": {
          "model_module": "@jupyter-widgets/base",
          "model_name": "LayoutModel",
          "model_module_version": "1.2.0",
          "state": {
            "_model_module": "@jupyter-widgets/base",
            "_model_module_version": "1.2.0",
            "_model_name": "LayoutModel",
            "_view_count": null,
            "_view_module": "@jupyter-widgets/base",
            "_view_module_version": "1.2.0",
            "_view_name": "LayoutView",
            "align_content": null,
            "align_items": null,
            "align_self": null,
            "border": null,
            "bottom": null,
            "display": null,
            "flex": null,
            "flex_flow": null,
            "grid_area": null,
            "grid_auto_columns": null,
            "grid_auto_flow": null,
            "grid_auto_rows": null,
            "grid_column": null,
            "grid_gap": null,
            "grid_row": null,
            "grid_template_areas": null,
            "grid_template_columns": null,
            "grid_template_rows": null,
            "height": null,
            "justify_content": null,
            "justify_items": null,
            "left": null,
            "margin": null,
            "max_height": null,
            "max_width": null,
            "min_height": null,
            "min_width": null,
            "object_fit": null,
            "object_position": null,
            "order": null,
            "overflow": null,
            "overflow_x": null,
            "overflow_y": null,
            "padding": null,
            "right": null,
            "top": null,
            "visibility": null,
            "width": null
          }
        },
        "166d3a627cb34bc7955a834bf7d23502": {
          "model_module": "@jupyter-widgets/controls",
          "model_name": "DescriptionStyleModel",
          "model_module_version": "1.5.0",
          "state": {
            "_model_module": "@jupyter-widgets/controls",
            "_model_module_version": "1.5.0",
            "_model_name": "DescriptionStyleModel",
            "_view_count": null,
            "_view_module": "@jupyter-widgets/base",
            "_view_module_version": "1.2.0",
            "_view_name": "StyleView",
            "description_width": ""
          }
        }
      }
    }
  },
  "nbformat": 4,
  "nbformat_minor": 0
}